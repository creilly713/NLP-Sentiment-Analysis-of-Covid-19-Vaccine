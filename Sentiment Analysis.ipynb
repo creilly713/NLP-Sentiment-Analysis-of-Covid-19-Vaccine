{
 "cells": [
  {
   "cell_type": "code",
   "execution_count": 328,
   "id": "3e65e027",
   "metadata": {},
   "outputs": [
    {
     "name": "stderr",
     "output_type": "stream",
     "text": [
      "[nltk_data] Downloading package vader_lexicon to\n",
      "[nltk_data]     C:\\Users\\carlp\\AppData\\Roaming\\nltk_data...\n",
      "[nltk_data]   Package vader_lexicon is already up-to-date!\n"
     ]
    }
   ],
   "source": [
    "import pandas as pd\n",
    "import numpy as np\n",
    "import matplotlib.pyplot as plt\n",
    "from textblob import TextBlob\n",
    "from wordcloud import WordCloud\n",
    "from keras.preprocessing.text import Tokenizer   \n",
    "from keras import utils\n",
    "from keras.utils import pad_sequences\n",
    "from keras.models import Sequential\n",
    "from sklearn.preprocessing import LabelEncoder \n",
    "import nltk\n",
    "nltk.download('vader_lexicon')\n",
    "from sklearn.preprocessing import StandardScaler\n",
    "from sklearn.model_selection import train_test_split\n",
    "from sklearn.metrics import confusion_matrix, accuracy_score\n",
    "from sklearn.neighbors import KNeighborsClassifier\n",
    "from keras.models import Sequential\n",
    "from keras.layers import Dropout , Conv1D ,MaxPool1D,Activation , Dense , Flatten , Embedding , LSTM\n",
    "from sklearn.metrics import classification_report\n"
   ]
  },
  {
   "cell_type": "markdown",
   "id": "c5b6a2e6",
   "metadata": {},
   "source": [
    "The datasets have been cleaned and prepared for sentiment analysis\n",
    "I will be using 3 datasets:\n",
    "    Tweets_2021_cleaned = tweets collected via web scraping 1000 tweets per day across 2021\n",
    "    Tweets_CovidVaccineDataset_Cleaned = tweets from Kaggle dataset available from user gpreda\n",
    "    Tweets_Canvas_2021_Cleaned = tweets from dataset provided on Canvas"
   ]
  },
  {
   "cell_type": "code",
   "execution_count": 150,
   "id": "f447783d",
   "metadata": {},
   "outputs": [
    {
     "data": {
      "text/html": [
       "<div>\n",
       "<style scoped>\n",
       "    .dataframe tbody tr th:only-of-type {\n",
       "        vertical-align: middle;\n",
       "    }\n",
       "\n",
       "    .dataframe tbody tr th {\n",
       "        vertical-align: top;\n",
       "    }\n",
       "\n",
       "    .dataframe thead th {\n",
       "        text-align: right;\n",
       "    }\n",
       "</style>\n",
       "<table border=\"1\" class=\"dataframe\">\n",
       "  <thead>\n",
       "    <tr style=\"text-align: right;\">\n",
       "      <th></th>\n",
       "      <th>Unnamed: 0</th>\n",
       "      <th>Date</th>\n",
       "      <th>text_lemmatized</th>\n",
       "    </tr>\n",
       "  </thead>\n",
       "  <tbody>\n",
       "    <tr>\n",
       "      <th>0</th>\n",
       "      <td>0</td>\n",
       "      <td>2021-01-01 23:59:59+00:00</td>\n",
       "      <td>['conorjrogers', 'reason', 'strategic', 'appro...</td>\n",
       "    </tr>\n",
       "    <tr>\n",
       "      <th>1</th>\n",
       "      <td>1</td>\n",
       "      <td>2021-01-01 23:59:33+00:00</td>\n",
       "      <td>['dr', 'fauci', 'mandatory', 'covid', 'vaccine...</td>\n",
       "    </tr>\n",
       "    <tr>\n",
       "      <th>2</th>\n",
       "      <td>2</td>\n",
       "      <td>2021-01-01 23:59:28+00:00</td>\n",
       "      <td>['peacefmonline', 'heard', 'early', 'stage', '...</td>\n",
       "    </tr>\n",
       "    <tr>\n",
       "      <th>3</th>\n",
       "      <td>3</td>\n",
       "      <td>2021-01-01 23:59:25+00:00</td>\n",
       "      <td>['hospital', 'employee', 'arrested', 'intentio...</td>\n",
       "    </tr>\n",
       "    <tr>\n",
       "      <th>4</th>\n",
       "      <td>4</td>\n",
       "      <td>2021-01-01 23:59:23+00:00</td>\n",
       "      <td>['uk', 'allows', 'mixing', 'covid19', 'vaccine...</td>\n",
       "    </tr>\n",
       "    <tr>\n",
       "      <th>...</th>\n",
       "      <td>...</td>\n",
       "      <td>...</td>\n",
       "      <td>...</td>\n",
       "    </tr>\n",
       "    <tr>\n",
       "      <th>364995</th>\n",
       "      <td>30995</td>\n",
       "      <td>2022-01-30 22:29:00+00:00</td>\n",
       "      <td>['science', 'doesnt', 'support', 'efficacy', '...</td>\n",
       "    </tr>\n",
       "    <tr>\n",
       "      <th>364996</th>\n",
       "      <td>30996</td>\n",
       "      <td>2022-01-30 22:28:58+00:00</td>\n",
       "      <td>['australia', 'covid', 'vaccine', 'booster', '...</td>\n",
       "    </tr>\n",
       "    <tr>\n",
       "      <th>364997</th>\n",
       "      <td>30997</td>\n",
       "      <td>2022-01-30 22:28:57+00:00</td>\n",
       "      <td>['mdrisette', 'naphisoc', 'cross', 'variant', ...</td>\n",
       "    </tr>\n",
       "    <tr>\n",
       "      <th>364998</th>\n",
       "      <td>30998</td>\n",
       "      <td>2022-01-30 22:28:55+00:00</td>\n",
       "      <td>['lilagracerose', 'transplant', 'always', 'req...</td>\n",
       "    </tr>\n",
       "    <tr>\n",
       "      <th>364999</th>\n",
       "      <td>30999</td>\n",
       "      <td>2022-01-30 22:28:54+00:00</td>\n",
       "      <td>['clobaroblob', 'covid', 'isnt', 'going', 'awa...</td>\n",
       "    </tr>\n",
       "  </tbody>\n",
       "</table>\n",
       "<p>365000 rows × 3 columns</p>\n",
       "</div>"
      ],
      "text/plain": [
       "        Unnamed: 0                       Date  \\\n",
       "0                0  2021-01-01 23:59:59+00:00   \n",
       "1                1  2021-01-01 23:59:33+00:00   \n",
       "2                2  2021-01-01 23:59:28+00:00   \n",
       "3                3  2021-01-01 23:59:25+00:00   \n",
       "4                4  2021-01-01 23:59:23+00:00   \n",
       "...            ...                        ...   \n",
       "364995       30995  2022-01-30 22:29:00+00:00   \n",
       "364996       30996  2022-01-30 22:28:58+00:00   \n",
       "364997       30997  2022-01-30 22:28:57+00:00   \n",
       "364998       30998  2022-01-30 22:28:55+00:00   \n",
       "364999       30999  2022-01-30 22:28:54+00:00   \n",
       "\n",
       "                                          text_lemmatized  \n",
       "0       ['conorjrogers', 'reason', 'strategic', 'appro...  \n",
       "1       ['dr', 'fauci', 'mandatory', 'covid', 'vaccine...  \n",
       "2       ['peacefmonline', 'heard', 'early', 'stage', '...  \n",
       "3       ['hospital', 'employee', 'arrested', 'intentio...  \n",
       "4       ['uk', 'allows', 'mixing', 'covid19', 'vaccine...  \n",
       "...                                                   ...  \n",
       "364995  ['science', 'doesnt', 'support', 'efficacy', '...  \n",
       "364996  ['australia', 'covid', 'vaccine', 'booster', '...  \n",
       "364997  ['mdrisette', 'naphisoc', 'cross', 'variant', ...  \n",
       "364998  ['lilagracerose', 'transplant', 'always', 'req...  \n",
       "364999  ['clobaroblob', 'covid', 'isnt', 'going', 'awa...  \n",
       "\n",
       "[365000 rows x 3 columns]"
      ]
     },
     "execution_count": 150,
     "metadata": {},
     "output_type": "execute_result"
    }
   ],
   "source": [
    "### Importing the cleaned web-scraped tweets dataset\n",
    "Tweets_2021 = pd.read_csv('Tweets_2021_Cleaned.csv')\n",
    "Tweets_2021"
   ]
  },
  {
   "cell_type": "code",
   "execution_count": 138,
   "id": "60ce0277",
   "metadata": {},
   "outputs": [
    {
     "name": "stderr",
     "output_type": "stream",
     "text": [
      "C:\\Users\\carlp\\AppData\\Local\\Temp\\ipykernel_1968\\1703316920.py:1: DtypeWarning: Columns (4) have mixed types. Specify dtype option on import or set low_memory=False.\n",
      "  DF_Covid_Vaccine = pd.read_csv('Tweets_CovidVaccineDataset_Cleaned.csv')\n"
     ]
    },
    {
     "data": {
      "text/html": [
       "<div>\n",
       "<style scoped>\n",
       "    .dataframe tbody tr th:only-of-type {\n",
       "        vertical-align: middle;\n",
       "    }\n",
       "\n",
       "    .dataframe tbody tr th {\n",
       "        vertical-align: top;\n",
       "    }\n",
       "\n",
       "    .dataframe thead th {\n",
       "        text-align: right;\n",
       "    }\n",
       "</style>\n",
       "<table border=\"1\" class=\"dataframe\">\n",
       "  <thead>\n",
       "    <tr style=\"text-align: right;\">\n",
       "      <th></th>\n",
       "      <th>Unnamed: 0</th>\n",
       "      <th>user_location</th>\n",
       "      <th>user_created</th>\n",
       "      <th>user_followers</th>\n",
       "      <th>user_verified</th>\n",
       "      <th>date</th>\n",
       "      <th>hashtags</th>\n",
       "      <th>text_lemmatized</th>\n",
       "    </tr>\n",
       "  </thead>\n",
       "  <tbody>\n",
       "    <tr>\n",
       "      <th>0</th>\n",
       "      <td>0</td>\n",
       "      <td>Assam</td>\n",
       "      <td>24-05-2020 10:18</td>\n",
       "      <td>64.0</td>\n",
       "      <td>False</td>\n",
       "      <td>18-08-2020 12:55</td>\n",
       "      <td>['CovidVaccine']</td>\n",
       "      <td>['australia', 'manufacture', 'covid19', 'vacci...</td>\n",
       "    </tr>\n",
       "    <tr>\n",
       "      <th>1</th>\n",
       "      <td>1</td>\n",
       "      <td>NaN</td>\n",
       "      <td>14-08-2020 16:42</td>\n",
       "      <td>1.0</td>\n",
       "      <td>False</td>\n",
       "      <td>18-08-2020 12:55</td>\n",
       "      <td>['CoronavirusVaccine', 'CoronaVaccine', 'Covid...</td>\n",
       "      <td>['coronavirusvaccine', 'coronavaccine', 'covid...</td>\n",
       "    </tr>\n",
       "    <tr>\n",
       "      <th>2</th>\n",
       "      <td>2</td>\n",
       "      <td>NaN</td>\n",
       "      <td>14-12-2017 07:07</td>\n",
       "      <td>143.0</td>\n",
       "      <td>False</td>\n",
       "      <td>18-08-2020 12:46</td>\n",
       "      <td>NaN</td>\n",
       "      <td>['death', 'due', 'covid19', 'affected', 'count...</td>\n",
       "    </tr>\n",
       "    <tr>\n",
       "      <th>3</th>\n",
       "      <td>3</td>\n",
       "      <td>NaN</td>\n",
       "      <td>18-09-2019 11:01</td>\n",
       "      <td>29.0</td>\n",
       "      <td>False</td>\n",
       "      <td>18-08-2020 12:45</td>\n",
       "      <td>NaN</td>\n",
       "      <td>['team_subhashree', 'subhashreesotwe', 'iamraj...</td>\n",
       "    </tr>\n",
       "    <tr>\n",
       "      <th>4</th>\n",
       "      <td>4</td>\n",
       "      <td>Adelaide, South Australia</td>\n",
       "      <td>24-01-2013 14:53</td>\n",
       "      <td>83.0</td>\n",
       "      <td>False</td>\n",
       "      <td>18-08-2020 12:45</td>\n",
       "      <td>NaN</td>\n",
       "      <td>['michellegrattan', 'conversationedu', 'pass',...</td>\n",
       "    </tr>\n",
       "    <tr>\n",
       "      <th>...</th>\n",
       "      <td>...</td>\n",
       "      <td>...</td>\n",
       "      <td>...</td>\n",
       "      <td>...</td>\n",
       "      <td>...</td>\n",
       "      <td>...</td>\n",
       "      <td>...</td>\n",
       "      <td>...</td>\n",
       "    </tr>\n",
       "    <tr>\n",
       "      <th>399640</th>\n",
       "      <td>399640</td>\n",
       "      <td>NaN</td>\n",
       "      <td>2010-05-22 08:23:41</td>\n",
       "      <td>4.0</td>\n",
       "      <td>False</td>\n",
       "      <td>2022-09-06 04:29:13</td>\n",
       "      <td>['BillGates', 'BillGatesBioTerrorist', 'COVID1...</td>\n",
       "      <td>['billgates', 'billgatesbioterrorist', 'billga...</td>\n",
       "    </tr>\n",
       "    <tr>\n",
       "      <th>399641</th>\n",
       "      <td>399641</td>\n",
       "      <td>Lacombe</td>\n",
       "      <td>2009-04-08 14:13:14</td>\n",
       "      <td>472.0</td>\n",
       "      <td>False</td>\n",
       "      <td>2022-09-06 04:25:30</td>\n",
       "      <td>['COVID19', 'CovidVaccine', 'cdnpoli', 'abpoli']</td>\n",
       "      <td>['incredible', 'pfizer', 'bos', 'backtracking'...</td>\n",
       "    </tr>\n",
       "    <tr>\n",
       "      <th>399642</th>\n",
       "      <td>399642</td>\n",
       "      <td>NaN</td>\n",
       "      <td>2007-09-21 18:02:13</td>\n",
       "      <td>3254.0</td>\n",
       "      <td>False</td>\n",
       "      <td>2022-09-06 04:20:00</td>\n",
       "      <td>['Sask', 'kids', 'news', 'canada', 'government...</td>\n",
       "      <td>['sask', 'social', 'service', 'admits', 'vaxxi...</td>\n",
       "    </tr>\n",
       "    <tr>\n",
       "      <th>399643</th>\n",
       "      <td>399643</td>\n",
       "      <td>Nashville, TN</td>\n",
       "      <td>2018-03-14 02:56:10</td>\n",
       "      <td>560.0</td>\n",
       "      <td>False</td>\n",
       "      <td>2022-09-06 04:17:25</td>\n",
       "      <td>['COVID', 'Vaccine', 'COVIDvaccine']</td>\n",
       "      <td>['pharmaceutical', 'industry', 'would', 'never...</td>\n",
       "    </tr>\n",
       "    <tr>\n",
       "      <th>399644</th>\n",
       "      <td>399644</td>\n",
       "      <td>Govt, Law, Politics, Society</td>\n",
       "      <td>2010-07-11 18:19:04</td>\n",
       "      <td>3423.0</td>\n",
       "      <td>False</td>\n",
       "      <td>2022-09-06 04:01:18</td>\n",
       "      <td>['CovidVaccine', 'COVID19', 'COVID', 'CovidIsN...</td>\n",
       "      <td>['running', 'money', 'covidvaccine', 'covid19'...</td>\n",
       "    </tr>\n",
       "  </tbody>\n",
       "</table>\n",
       "<p>399645 rows × 8 columns</p>\n",
       "</div>"
      ],
      "text/plain": [
       "        Unnamed: 0                 user_location         user_created  \\\n",
       "0                0                         Assam     24-05-2020 10:18   \n",
       "1                1                           NaN     14-08-2020 16:42   \n",
       "2                2                           NaN     14-12-2017 07:07   \n",
       "3                3                           NaN     18-09-2019 11:01   \n",
       "4                4     Adelaide, South Australia     24-01-2013 14:53   \n",
       "...            ...                           ...                  ...   \n",
       "399640      399640                           NaN  2010-05-22 08:23:41   \n",
       "399641      399641                       Lacombe  2009-04-08 14:13:14   \n",
       "399642      399642                           NaN  2007-09-21 18:02:13   \n",
       "399643      399643                 Nashville, TN  2018-03-14 02:56:10   \n",
       "399644      399644  Govt, Law, Politics, Society  2010-07-11 18:19:04   \n",
       "\n",
       "        user_followers user_verified                 date  \\\n",
       "0                 64.0         False     18-08-2020 12:55   \n",
       "1                  1.0         False     18-08-2020 12:55   \n",
       "2                143.0         False     18-08-2020 12:46   \n",
       "3                 29.0         False     18-08-2020 12:45   \n",
       "4                 83.0         False     18-08-2020 12:45   \n",
       "...                ...           ...                  ...   \n",
       "399640             4.0         False  2022-09-06 04:29:13   \n",
       "399641           472.0         False  2022-09-06 04:25:30   \n",
       "399642          3254.0         False  2022-09-06 04:20:00   \n",
       "399643           560.0         False  2022-09-06 04:17:25   \n",
       "399644          3423.0         False  2022-09-06 04:01:18   \n",
       "\n",
       "                                                 hashtags  \\\n",
       "0                                        ['CovidVaccine']   \n",
       "1       ['CoronavirusVaccine', 'CoronaVaccine', 'Covid...   \n",
       "2                                                     NaN   \n",
       "3                                                     NaN   \n",
       "4                                                     NaN   \n",
       "...                                                   ...   \n",
       "399640  ['BillGates', 'BillGatesBioTerrorist', 'COVID1...   \n",
       "399641   ['COVID19', 'CovidVaccine', 'cdnpoli', 'abpoli']   \n",
       "399642  ['Sask', 'kids', 'news', 'canada', 'government...   \n",
       "399643               ['COVID', 'Vaccine', 'COVIDvaccine']   \n",
       "399644  ['CovidVaccine', 'COVID19', 'COVID', 'CovidIsN...   \n",
       "\n",
       "                                          text_lemmatized  \n",
       "0       ['australia', 'manufacture', 'covid19', 'vacci...  \n",
       "1       ['coronavirusvaccine', 'coronavaccine', 'covid...  \n",
       "2       ['death', 'due', 'covid19', 'affected', 'count...  \n",
       "3       ['team_subhashree', 'subhashreesotwe', 'iamraj...  \n",
       "4       ['michellegrattan', 'conversationedu', 'pass',...  \n",
       "...                                                   ...  \n",
       "399640  ['billgates', 'billgatesbioterrorist', 'billga...  \n",
       "399641  ['incredible', 'pfizer', 'bos', 'backtracking'...  \n",
       "399642  ['sask', 'social', 'service', 'admits', 'vaxxi...  \n",
       "399643  ['pharmaceutical', 'industry', 'would', 'never...  \n",
       "399644  ['running', 'money', 'covidvaccine', 'covid19'...  \n",
       "\n",
       "[399645 rows x 8 columns]"
      ]
     },
     "execution_count": 138,
     "metadata": {},
     "output_type": "execute_result"
    }
   ],
   "source": [
    "### Importing the cleaned Kaggle Tweet dataset\n",
    "DF_Covid_Vaccine = pd.read_csv('Tweets_CovidVaccineDataset_Cleaned.csv')\n",
    "DF_Covid_Vaccine"
   ]
  },
  {
   "cell_type": "code",
   "execution_count": 143,
   "id": "17f34317",
   "metadata": {},
   "outputs": [
    {
     "data": {
      "text/html": [
       "<div>\n",
       "<style scoped>\n",
       "    .dataframe tbody tr th:only-of-type {\n",
       "        vertical-align: middle;\n",
       "    }\n",
       "\n",
       "    .dataframe tbody tr th {\n",
       "        vertical-align: top;\n",
       "    }\n",
       "\n",
       "    .dataframe thead th {\n",
       "        text-align: right;\n",
       "    }\n",
       "</style>\n",
       "<table border=\"1\" class=\"dataframe\">\n",
       "  <thead>\n",
       "    <tr style=\"text-align: right;\">\n",
       "      <th></th>\n",
       "      <th>Unnamed: 0</th>\n",
       "      <th>user_location</th>\n",
       "      <th>user_created</th>\n",
       "      <th>user_followers</th>\n",
       "      <th>user_verified</th>\n",
       "      <th>date</th>\n",
       "      <th>hashtags</th>\n",
       "      <th>text_lemmatized</th>\n",
       "    </tr>\n",
       "  </thead>\n",
       "  <tbody>\n",
       "    <tr>\n",
       "      <th>0</th>\n",
       "      <td>0</td>\n",
       "      <td>La Crescenta-Montrose, CA</td>\n",
       "      <td>2009-04-08 17:52:46</td>\n",
       "      <td>405</td>\n",
       "      <td>False</td>\n",
       "      <td>2020-12-20 06:06:44</td>\n",
       "      <td>['PfizerBioNTech']</td>\n",
       "      <td>['folk', 'said', 'daikon', 'paste', 'could', '...</td>\n",
       "    </tr>\n",
       "    <tr>\n",
       "      <th>1</th>\n",
       "      <td>1</td>\n",
       "      <td>San Francisco, CA</td>\n",
       "      <td>2009-09-21 15:27:30</td>\n",
       "      <td>834</td>\n",
       "      <td>False</td>\n",
       "      <td>2020-12-13 16:27:13</td>\n",
       "      <td>NaN</td>\n",
       "      <td>['world', 'wrong', 'side', 'history', 'year', ...</td>\n",
       "    </tr>\n",
       "    <tr>\n",
       "      <th>2</th>\n",
       "      <td>2</td>\n",
       "      <td>Your Bed</td>\n",
       "      <td>2020-06-25 23:30:28</td>\n",
       "      <td>10</td>\n",
       "      <td>False</td>\n",
       "      <td>2020-12-12 20:33:45</td>\n",
       "      <td>['coronavirus', 'SputnikV', 'AstraZeneca', 'Pf...</td>\n",
       "      <td>['coronavirus', 'sputnikv', 'astrazeneca', 'pf...</td>\n",
       "    </tr>\n",
       "    <tr>\n",
       "      <th>3</th>\n",
       "      <td>3</td>\n",
       "      <td>Vancouver, BC - Canada</td>\n",
       "      <td>2008-09-10 11:28:53</td>\n",
       "      <td>49165</td>\n",
       "      <td>True</td>\n",
       "      <td>2020-12-12 20:23:59</td>\n",
       "      <td>NaN</td>\n",
       "      <td>['fact', 'immutable', 'senator', 'even', 'your...</td>\n",
       "    </tr>\n",
       "    <tr>\n",
       "      <th>4</th>\n",
       "      <td>4</td>\n",
       "      <td>NaN</td>\n",
       "      <td>2020-04-23 17:58:42</td>\n",
       "      <td>152</td>\n",
       "      <td>False</td>\n",
       "      <td>2020-12-12 20:17:19</td>\n",
       "      <td>['whereareallthesickpeople', 'PfizerBioNTech']</td>\n",
       "      <td>['explain', 'need', 'vaccine', 'borisjohnson',...</td>\n",
       "    </tr>\n",
       "    <tr>\n",
       "      <th>...</th>\n",
       "      <td>...</td>\n",
       "      <td>...</td>\n",
       "      <td>...</td>\n",
       "      <td>...</td>\n",
       "      <td>...</td>\n",
       "      <td>...</td>\n",
       "      <td>...</td>\n",
       "      <td>...</td>\n",
       "    </tr>\n",
       "    <tr>\n",
       "      <th>11015</th>\n",
       "      <td>11015</td>\n",
       "      <td>Petaling Jaya</td>\n",
       "      <td>2009-07-29 01:58:44</td>\n",
       "      <td>151937</td>\n",
       "      <td>False</td>\n",
       "      <td>2021-11-17 11:27:49</td>\n",
       "      <td>NaN</td>\n",
       "      <td>['number', 'covid19', 'case', 'today', '17', '...</td>\n",
       "    </tr>\n",
       "    <tr>\n",
       "      <th>11016</th>\n",
       "      <td>11016</td>\n",
       "      <td>NaN</td>\n",
       "      <td>2013-01-28 11:48:20</td>\n",
       "      <td>4259</td>\n",
       "      <td>False</td>\n",
       "      <td>2021-11-17 03:17:44</td>\n",
       "      <td>['PfizerBioNTech']</td>\n",
       "      <td>['first', 'dose', 'pfizerbiontech']</td>\n",
       "    </tr>\n",
       "    <tr>\n",
       "      <th>11017</th>\n",
       "      <td>11017</td>\n",
       "      <td>Petaling Jaya</td>\n",
       "      <td>2009-07-29 01:58:44</td>\n",
       "      <td>151937</td>\n",
       "      <td>False</td>\n",
       "      <td>2021-11-16 12:14:00</td>\n",
       "      <td>NaN</td>\n",
       "      <td>['number', 'covid19', 'case', 'today', '16', '...</td>\n",
       "    </tr>\n",
       "    <tr>\n",
       "      <th>11018</th>\n",
       "      <td>11018</td>\n",
       "      <td>Ireland</td>\n",
       "      <td>2012-08-13 13:47:03</td>\n",
       "      <td>1</td>\n",
       "      <td>False</td>\n",
       "      <td>2021-11-15 20:29:42</td>\n",
       "      <td>['PfizerBioNTech', 'Paxlovid', 'COVID19']</td>\n",
       "      <td>['pfizerbiontech', 'developed', 'new', 'pill',...</td>\n",
       "    </tr>\n",
       "    <tr>\n",
       "      <th>11019</th>\n",
       "      <td>11019</td>\n",
       "      <td>Petaling Jaya</td>\n",
       "      <td>2009-07-29 01:58:44</td>\n",
       "      <td>151937</td>\n",
       "      <td>False</td>\n",
       "      <td>2021-11-15 11:28:34</td>\n",
       "      <td>NaN</td>\n",
       "      <td>['number', 'covid19', 'case', 'today', '15', '...</td>\n",
       "    </tr>\n",
       "  </tbody>\n",
       "</table>\n",
       "<p>11020 rows × 8 columns</p>\n",
       "</div>"
      ],
      "text/plain": [
       "       Unnamed: 0              user_location         user_created  \\\n",
       "0               0  La Crescenta-Montrose, CA  2009-04-08 17:52:46   \n",
       "1               1          San Francisco, CA  2009-09-21 15:27:30   \n",
       "2               2                   Your Bed  2020-06-25 23:30:28   \n",
       "3               3     Vancouver, BC - Canada  2008-09-10 11:28:53   \n",
       "4               4                        NaN  2020-04-23 17:58:42   \n",
       "...           ...                        ...                  ...   \n",
       "11015       11015              Petaling Jaya  2009-07-29 01:58:44   \n",
       "11016       11016                        NaN  2013-01-28 11:48:20   \n",
       "11017       11017              Petaling Jaya  2009-07-29 01:58:44   \n",
       "11018       11018                    Ireland  2012-08-13 13:47:03   \n",
       "11019       11019              Petaling Jaya  2009-07-29 01:58:44   \n",
       "\n",
       "       user_followers  user_verified                 date  \\\n",
       "0                 405          False  2020-12-20 06:06:44   \n",
       "1                 834          False  2020-12-13 16:27:13   \n",
       "2                  10          False  2020-12-12 20:33:45   \n",
       "3               49165           True  2020-12-12 20:23:59   \n",
       "4                 152          False  2020-12-12 20:17:19   \n",
       "...               ...            ...                  ...   \n",
       "11015          151937          False  2021-11-17 11:27:49   \n",
       "11016            4259          False  2021-11-17 03:17:44   \n",
       "11017          151937          False  2021-11-16 12:14:00   \n",
       "11018               1          False  2021-11-15 20:29:42   \n",
       "11019          151937          False  2021-11-15 11:28:34   \n",
       "\n",
       "                                                hashtags  \\\n",
       "0                                     ['PfizerBioNTech']   \n",
       "1                                                    NaN   \n",
       "2      ['coronavirus', 'SputnikV', 'AstraZeneca', 'Pf...   \n",
       "3                                                    NaN   \n",
       "4         ['whereareallthesickpeople', 'PfizerBioNTech']   \n",
       "...                                                  ...   \n",
       "11015                                                NaN   \n",
       "11016                                 ['PfizerBioNTech']   \n",
       "11017                                                NaN   \n",
       "11018          ['PfizerBioNTech', 'Paxlovid', 'COVID19']   \n",
       "11019                                                NaN   \n",
       "\n",
       "                                         text_lemmatized  \n",
       "0      ['folk', 'said', 'daikon', 'paste', 'could', '...  \n",
       "1      ['world', 'wrong', 'side', 'history', 'year', ...  \n",
       "2      ['coronavirus', 'sputnikv', 'astrazeneca', 'pf...  \n",
       "3      ['fact', 'immutable', 'senator', 'even', 'your...  \n",
       "4      ['explain', 'need', 'vaccine', 'borisjohnson',...  \n",
       "...                                                  ...  \n",
       "11015  ['number', 'covid19', 'case', 'today', '17', '...  \n",
       "11016                ['first', 'dose', 'pfizerbiontech']  \n",
       "11017  ['number', 'covid19', 'case', 'today', '16', '...  \n",
       "11018  ['pfizerbiontech', 'developed', 'new', 'pill',...  \n",
       "11019  ['number', 'covid19', 'case', 'today', '15', '...  \n",
       "\n",
       "[11020 rows x 8 columns]"
      ]
     },
     "execution_count": 143,
     "metadata": {},
     "output_type": "execute_result"
    }
   ],
   "source": [
    "### Importing the cleaned Tweet dataset from Canvas\n",
    "DF_Tweets_Canvas = pd.read_csv('Tweets_Canvas_2021_Cleaned.csv')\n",
    "DF_Tweets_Canvas"
   ]
  },
  {
   "cell_type": "markdown",
   "id": "30f6a052",
   "metadata": {},
   "source": [
    "# Rule-based approach to Sentiment Analysis - TextBlob"
   ]
  },
  {
   "cell_type": "markdown",
   "id": "aa5fdc28",
   "metadata": {},
   "source": [
    "# Web-scraped Tweets 2021 Sentiment Analysis "
   ]
  },
  {
   "cell_type": "code",
   "execution_count": 130,
   "id": "478dc636",
   "metadata": {},
   "outputs": [],
   "source": [
    "### Using TextBlob to determine the sentiment of the Tweets\n",
    "\n",
    "### Function to call polarity score from TextBlob\n",
    "def Polarity_Score(txt):\n",
    "  return TextBlob(txt).sentiment.polarity"
   ]
  },
  {
   "cell_type": "code",
   "execution_count": 152,
   "id": "1f4021f7",
   "metadata": {},
   "outputs": [],
   "source": [
    "### Applying polarity score to Tweets_2021 dataset\n",
    "Tweets_2021['Polarity'] = Tweets_2021['text_lemmatized'].apply(Polarity_Score)"
   ]
  },
  {
   "cell_type": "code",
   "execution_count": 153,
   "id": "9bcae06e",
   "metadata": {},
   "outputs": [],
   "source": [
    "### Function to determine the range for each sentiment category \n",
    "\n",
    "def Sentiment_Analysis(i):\n",
    "  if (i<-0.5):\n",
    "    return 'Strongly Negative'\n",
    "  elif ((i<0 ) and (i >= -0.5)):\n",
    "    return 'Negative'\n",
    "  elif (i == 0):\n",
    "    return 'Neutral'\n",
    "  elif (i>0 and i<=0.5):\n",
    "    return 'Positive'\n",
    "  else:\n",
    "    return 'Strongly Positive'"
   ]
  },
  {
   "cell_type": "code",
   "execution_count": 154,
   "id": "c80456ec",
   "metadata": {},
   "outputs": [],
   "source": [
    "### Applying Polarity function the lemmatized tweets and labelling a new DF column as Sentiment\n",
    "Tweets_2021['Sentiment'] = Tweets_2021['Polarity'].apply(Sentiment_Analysis)"
   ]
  },
  {
   "cell_type": "code",
   "execution_count": 155,
   "id": "c61c830d",
   "metadata": {},
   "outputs": [
    {
     "name": "stdout",
     "output_type": "stream",
     "text": [
      "{'Positive': 0, 'Neutral': 1, 'Negative': 2, 'Strongly Positive': 3, 'Strongly Negative': 4}\n"
     ]
    },
    {
     "name": "stderr",
     "output_type": "stream",
     "text": [
      "C:\\Users\\carlp\\AppData\\Local\\Temp\\ipykernel_1968\\2719337320.py:11: SettingWithCopyWarning: \n",
      "A value is trying to be set on a copy of a slice from a DataFrame.\n",
      "Try using .loc[row_indexer,col_indexer] = value instead\n",
      "\n",
      "See the caveats in the documentation: https://pandas.pydata.org/pandas-docs/stable/user_guide/indexing.html#returning-a-view-versus-a-copy\n",
      "  Tweets_2021['label'] = Tweets_2021.Sentiment.replace(label_dict)\n"
     ]
    },
    {
     "data": {
      "text/html": [
       "<div>\n",
       "<style scoped>\n",
       "    .dataframe tbody tr th:only-of-type {\n",
       "        vertical-align: middle;\n",
       "    }\n",
       "\n",
       "    .dataframe tbody tr th {\n",
       "        vertical-align: top;\n",
       "    }\n",
       "\n",
       "    .dataframe thead th {\n",
       "        text-align: right;\n",
       "    }\n",
       "</style>\n",
       "<table border=\"1\" class=\"dataframe\">\n",
       "  <thead>\n",
       "    <tr style=\"text-align: right;\">\n",
       "      <th></th>\n",
       "      <th>Date</th>\n",
       "      <th>Sentiment</th>\n",
       "      <th>text_lemmatized</th>\n",
       "      <th>label</th>\n",
       "    </tr>\n",
       "  </thead>\n",
       "  <tbody>\n",
       "    <tr>\n",
       "      <th>0</th>\n",
       "      <td>2021-01-01 23:59:59+00:00</td>\n",
       "      <td>Positive</td>\n",
       "      <td>['conorjrogers', 'reason', 'strategic', 'appro...</td>\n",
       "      <td>0</td>\n",
       "    </tr>\n",
       "    <tr>\n",
       "      <th>1</th>\n",
       "      <td>2021-01-01 23:59:33+00:00</td>\n",
       "      <td>Neutral</td>\n",
       "      <td>['dr', 'fauci', 'mandatory', 'covid', 'vaccine...</td>\n",
       "      <td>1</td>\n",
       "    </tr>\n",
       "    <tr>\n",
       "      <th>2</th>\n",
       "      <td>2021-01-01 23:59:28+00:00</td>\n",
       "      <td>Positive</td>\n",
       "      <td>['peacefmonline', 'heard', 'early', 'stage', '...</td>\n",
       "      <td>0</td>\n",
       "    </tr>\n",
       "    <tr>\n",
       "      <th>3</th>\n",
       "      <td>2021-01-01 23:59:25+00:00</td>\n",
       "      <td>Neutral</td>\n",
       "      <td>['hospital', 'employee', 'arrested', 'intentio...</td>\n",
       "      <td>1</td>\n",
       "    </tr>\n",
       "    <tr>\n",
       "      <th>4</th>\n",
       "      <td>2021-01-01 23:59:23+00:00</td>\n",
       "      <td>Neutral</td>\n",
       "      <td>['uk', 'allows', 'mixing', 'covid19', 'vaccine...</td>\n",
       "      <td>1</td>\n",
       "    </tr>\n",
       "    <tr>\n",
       "      <th>...</th>\n",
       "      <td>...</td>\n",
       "      <td>...</td>\n",
       "      <td>...</td>\n",
       "      <td>...</td>\n",
       "    </tr>\n",
       "    <tr>\n",
       "      <th>364995</th>\n",
       "      <td>2022-01-30 22:29:00+00:00</td>\n",
       "      <td>Neutral</td>\n",
       "      <td>['science', 'doesnt', 'support', 'efficacy', '...</td>\n",
       "      <td>1</td>\n",
       "    </tr>\n",
       "    <tr>\n",
       "      <th>364996</th>\n",
       "      <td>2022-01-30 22:28:58+00:00</td>\n",
       "      <td>Positive</td>\n",
       "      <td>['australia', 'covid', 'vaccine', 'booster', '...</td>\n",
       "      <td>0</td>\n",
       "    </tr>\n",
       "    <tr>\n",
       "      <th>364997</th>\n",
       "      <td>2022-01-30 22:28:57+00:00</td>\n",
       "      <td>Positive</td>\n",
       "      <td>['mdrisette', 'naphisoc', 'cross', 'variant', ...</td>\n",
       "      <td>0</td>\n",
       "    </tr>\n",
       "    <tr>\n",
       "      <th>364998</th>\n",
       "      <td>2022-01-30 22:28:55+00:00</td>\n",
       "      <td>Neutral</td>\n",
       "      <td>['lilagracerose', 'transplant', 'always', 'req...</td>\n",
       "      <td>1</td>\n",
       "    </tr>\n",
       "    <tr>\n",
       "      <th>364999</th>\n",
       "      <td>2022-01-30 22:28:54+00:00</td>\n",
       "      <td>Positive</td>\n",
       "      <td>['clobaroblob', 'covid', 'isnt', 'going', 'awa...</td>\n",
       "      <td>0</td>\n",
       "    </tr>\n",
       "  </tbody>\n",
       "</table>\n",
       "<p>365000 rows × 4 columns</p>\n",
       "</div>"
      ],
      "text/plain": [
       "                             Date Sentiment  \\\n",
       "0       2021-01-01 23:59:59+00:00  Positive   \n",
       "1       2021-01-01 23:59:33+00:00   Neutral   \n",
       "2       2021-01-01 23:59:28+00:00  Positive   \n",
       "3       2021-01-01 23:59:25+00:00   Neutral   \n",
       "4       2021-01-01 23:59:23+00:00   Neutral   \n",
       "...                           ...       ...   \n",
       "364995  2022-01-30 22:29:00+00:00   Neutral   \n",
       "364996  2022-01-30 22:28:58+00:00  Positive   \n",
       "364997  2022-01-30 22:28:57+00:00  Positive   \n",
       "364998  2022-01-30 22:28:55+00:00   Neutral   \n",
       "364999  2022-01-30 22:28:54+00:00  Positive   \n",
       "\n",
       "                                          text_lemmatized  label  \n",
       "0       ['conorjrogers', 'reason', 'strategic', 'appro...      0  \n",
       "1       ['dr', 'fauci', 'mandatory', 'covid', 'vaccine...      1  \n",
       "2       ['peacefmonline', 'heard', 'early', 'stage', '...      0  \n",
       "3       ['hospital', 'employee', 'arrested', 'intentio...      1  \n",
       "4       ['uk', 'allows', 'mixing', 'covid19', 'vaccine...      1  \n",
       "...                                                   ...    ...  \n",
       "364995  ['science', 'doesnt', 'support', 'efficacy', '...      1  \n",
       "364996  ['australia', 'covid', 'vaccine', 'booster', '...      0  \n",
       "364997  ['mdrisette', 'naphisoc', 'cross', 'variant', ...      0  \n",
       "364998  ['lilagracerose', 'transplant', 'always', 'req...      1  \n",
       "364999  ['clobaroblob', 'covid', 'isnt', 'going', 'awa...      0  \n",
       "\n",
       "[365000 rows x 4 columns]"
      ]
     },
     "execution_count": 155,
     "metadata": {},
     "output_type": "execute_result"
    }
   ],
   "source": [
    "### adding Sentiment column to dataframe\n",
    "Tweets_2021 = Tweets_2021[['Date', 'Sentiment','text_lemmatized']]\n",
    "\n",
    "possible_labels = Tweets_2021.Sentiment.unique()\n",
    "\n",
    "### Assigning a numerical number to represent each category of sentiment, from 0 to 4\n",
    "### ideally this numbering system would be logical starting with Strongly Negative at 0 and Strongly Positive at 4, however\n",
    "### I was unable to relabel successfully after passing through the function below\n",
    "\n",
    "label_dict = {}\n",
    "for index, possible_label in enumerate(possible_labels): \n",
    "#The enumerate() function takes a collection (e.g. a tuple) and returns it as an enumerate object\n",
    "    \n",
    "    label_dict[possible_label] = index\n",
    "\n",
    "Tweets_2021['label'] = Tweets_2021.Sentiment.replace(label_dict)\n",
    "\n",
    "\n",
    "print(label_dict)\n",
    "\n",
    "Tweets_2021"
   ]
  },
  {
   "cell_type": "markdown",
   "id": "8b2d24e5",
   "metadata": {},
   "source": [
    "# DF_Covid_Vaccine - Kaggle Tweets Sentiment Analysis"
   ]
  },
  {
   "cell_type": "code",
   "execution_count": 140,
   "id": "0db57a9c",
   "metadata": {},
   "outputs": [],
   "source": [
    "### Below I apply the same process of assigning sentiment and labelling the tweets as with the above dataset\n",
    "\n",
    "DF_Covid_Vaccine['Polarity'] = DF_Covid_Vaccine['text_lemmatized'].apply(Polarity_Score)"
   ]
  },
  {
   "cell_type": "code",
   "execution_count": 141,
   "id": "d7e17383",
   "metadata": {},
   "outputs": [],
   "source": [
    "DF_Covid_Vaccine['Sentiment'] = DF_Covid_Vaccine['Polarity'].apply(Sentiment_Analysis)"
   ]
  },
  {
   "cell_type": "code",
   "execution_count": 142,
   "id": "c78729c0",
   "metadata": {},
   "outputs": [
    {
     "name": "stdout",
     "output_type": "stream",
     "text": [
      "{'Positive': 0, 'Strongly Positive': 1, 'Negative': 2, 'Neutral': 3, 'Strongly Negative': 4}\n"
     ]
    },
    {
     "name": "stderr",
     "output_type": "stream",
     "text": [
      "C:\\Users\\carlp\\AppData\\Local\\Temp\\ipykernel_1968\\4042521501.py:11: SettingWithCopyWarning: \n",
      "A value is trying to be set on a copy of a slice from a DataFrame.\n",
      "Try using .loc[row_indexer,col_indexer] = value instead\n",
      "\n",
      "See the caveats in the documentation: https://pandas.pydata.org/pandas-docs/stable/user_guide/indexing.html#returning-a-view-versus-a-copy\n",
      "  DF_Covid_Vaccine['label'] = DF_Covid_Vaccine.Sentiment.replace(label_dict)\n"
     ]
    },
    {
     "data": {
      "text/html": [
       "<div>\n",
       "<style scoped>\n",
       "    .dataframe tbody tr th:only-of-type {\n",
       "        vertical-align: middle;\n",
       "    }\n",
       "\n",
       "    .dataframe tbody tr th {\n",
       "        vertical-align: top;\n",
       "    }\n",
       "\n",
       "    .dataframe thead th {\n",
       "        text-align: right;\n",
       "    }\n",
       "</style>\n",
       "<table border=\"1\" class=\"dataframe\">\n",
       "  <thead>\n",
       "    <tr style=\"text-align: right;\">\n",
       "      <th></th>\n",
       "      <th>date</th>\n",
       "      <th>user_location</th>\n",
       "      <th>user_created</th>\n",
       "      <th>user_followers</th>\n",
       "      <th>user_verified</th>\n",
       "      <th>hashtags</th>\n",
       "      <th>Sentiment</th>\n",
       "      <th>text_lemmatized</th>\n",
       "      <th>label</th>\n",
       "    </tr>\n",
       "  </thead>\n",
       "  <tbody>\n",
       "    <tr>\n",
       "      <th>0</th>\n",
       "      <td>18-08-2020 12:55</td>\n",
       "      <td>Assam</td>\n",
       "      <td>24-05-2020 10:18</td>\n",
       "      <td>64.0</td>\n",
       "      <td>False</td>\n",
       "      <td>['CovidVaccine']</td>\n",
       "      <td>Positive</td>\n",
       "      <td>['australia', 'manufacture', 'covid19', 'vacci...</td>\n",
       "      <td>0</td>\n",
       "    </tr>\n",
       "    <tr>\n",
       "      <th>1</th>\n",
       "      <td>18-08-2020 12:55</td>\n",
       "      <td>NaN</td>\n",
       "      <td>14-08-2020 16:42</td>\n",
       "      <td>1.0</td>\n",
       "      <td>False</td>\n",
       "      <td>['CoronavirusVaccine', 'CoronaVaccine', 'Covid...</td>\n",
       "      <td>Strongly Positive</td>\n",
       "      <td>['coronavirusvaccine', 'coronavaccine', 'covid...</td>\n",
       "      <td>1</td>\n",
       "    </tr>\n",
       "    <tr>\n",
       "      <th>2</th>\n",
       "      <td>18-08-2020 12:46</td>\n",
       "      <td>NaN</td>\n",
       "      <td>14-12-2017 07:07</td>\n",
       "      <td>143.0</td>\n",
       "      <td>False</td>\n",
       "      <td>NaN</td>\n",
       "      <td>Negative</td>\n",
       "      <td>['death', 'due', 'covid19', 'affected', 'count...</td>\n",
       "      <td>2</td>\n",
       "    </tr>\n",
       "    <tr>\n",
       "      <th>3</th>\n",
       "      <td>18-08-2020 12:45</td>\n",
       "      <td>NaN</td>\n",
       "      <td>18-09-2019 11:01</td>\n",
       "      <td>29.0</td>\n",
       "      <td>False</td>\n",
       "      <td>NaN</td>\n",
       "      <td>Positive</td>\n",
       "      <td>['team_subhashree', 'subhashreesotwe', 'iamraj...</td>\n",
       "      <td>0</td>\n",
       "    </tr>\n",
       "    <tr>\n",
       "      <th>4</th>\n",
       "      <td>18-08-2020 12:45</td>\n",
       "      <td>Adelaide, South Australia</td>\n",
       "      <td>24-01-2013 14:53</td>\n",
       "      <td>83.0</td>\n",
       "      <td>False</td>\n",
       "      <td>NaN</td>\n",
       "      <td>Neutral</td>\n",
       "      <td>['michellegrattan', 'conversationedu', 'pass',...</td>\n",
       "      <td>3</td>\n",
       "    </tr>\n",
       "    <tr>\n",
       "      <th>...</th>\n",
       "      <td>...</td>\n",
       "      <td>...</td>\n",
       "      <td>...</td>\n",
       "      <td>...</td>\n",
       "      <td>...</td>\n",
       "      <td>...</td>\n",
       "      <td>...</td>\n",
       "      <td>...</td>\n",
       "      <td>...</td>\n",
       "    </tr>\n",
       "    <tr>\n",
       "      <th>399640</th>\n",
       "      <td>2022-09-06 04:29:13</td>\n",
       "      <td>NaN</td>\n",
       "      <td>2010-05-22 08:23:41</td>\n",
       "      <td>4.0</td>\n",
       "      <td>False</td>\n",
       "      <td>['BillGates', 'BillGatesBioTerrorist', 'COVID1...</td>\n",
       "      <td>Neutral</td>\n",
       "      <td>['billgates', 'billgatesbioterrorist', 'billga...</td>\n",
       "      <td>3</td>\n",
       "    </tr>\n",
       "    <tr>\n",
       "      <th>399641</th>\n",
       "      <td>2022-09-06 04:25:30</td>\n",
       "      <td>Lacombe</td>\n",
       "      <td>2009-04-08 14:13:14</td>\n",
       "      <td>472.0</td>\n",
       "      <td>False</td>\n",
       "      <td>['COVID19', 'CovidVaccine', 'cdnpoli', 'abpoli']</td>\n",
       "      <td>Positive</td>\n",
       "      <td>['incredible', 'pfizer', 'bos', 'backtracking'...</td>\n",
       "      <td>0</td>\n",
       "    </tr>\n",
       "    <tr>\n",
       "      <th>399642</th>\n",
       "      <td>2022-09-06 04:20:00</td>\n",
       "      <td>NaN</td>\n",
       "      <td>2007-09-21 18:02:13</td>\n",
       "      <td>3254.0</td>\n",
       "      <td>False</td>\n",
       "      <td>['Sask', 'kids', 'news', 'canada', 'government...</td>\n",
       "      <td>Positive</td>\n",
       "      <td>['sask', 'social', 'service', 'admits', 'vaxxi...</td>\n",
       "      <td>0</td>\n",
       "    </tr>\n",
       "    <tr>\n",
       "      <th>399643</th>\n",
       "      <td>2022-09-06 04:17:25</td>\n",
       "      <td>Nashville, TN</td>\n",
       "      <td>2018-03-14 02:56:10</td>\n",
       "      <td>560.0</td>\n",
       "      <td>False</td>\n",
       "      <td>['COVID', 'Vaccine', 'COVIDvaccine']</td>\n",
       "      <td>Strongly Negative</td>\n",
       "      <td>['pharmaceutical', 'industry', 'would', 'never...</td>\n",
       "      <td>4</td>\n",
       "    </tr>\n",
       "    <tr>\n",
       "      <th>399644</th>\n",
       "      <td>2022-09-06 04:01:18</td>\n",
       "      <td>Govt, Law, Politics, Society</td>\n",
       "      <td>2010-07-11 18:19:04</td>\n",
       "      <td>3423.0</td>\n",
       "      <td>False</td>\n",
       "      <td>['CovidVaccine', 'COVID19', 'COVID', 'CovidIsN...</td>\n",
       "      <td>Neutral</td>\n",
       "      <td>['running', 'money', 'covidvaccine', 'covid19'...</td>\n",
       "      <td>3</td>\n",
       "    </tr>\n",
       "  </tbody>\n",
       "</table>\n",
       "<p>399645 rows × 9 columns</p>\n",
       "</div>"
      ],
      "text/plain": [
       "                       date                 user_location  \\\n",
       "0          18-08-2020 12:55                         Assam   \n",
       "1          18-08-2020 12:55                           NaN   \n",
       "2          18-08-2020 12:46                           NaN   \n",
       "3          18-08-2020 12:45                           NaN   \n",
       "4          18-08-2020 12:45     Adelaide, South Australia   \n",
       "...                     ...                           ...   \n",
       "399640  2022-09-06 04:29:13                           NaN   \n",
       "399641  2022-09-06 04:25:30                       Lacombe   \n",
       "399642  2022-09-06 04:20:00                           NaN   \n",
       "399643  2022-09-06 04:17:25                 Nashville, TN   \n",
       "399644  2022-09-06 04:01:18  Govt, Law, Politics, Society   \n",
       "\n",
       "               user_created  user_followers user_verified  \\\n",
       "0          24-05-2020 10:18            64.0         False   \n",
       "1          14-08-2020 16:42             1.0         False   \n",
       "2          14-12-2017 07:07           143.0         False   \n",
       "3          18-09-2019 11:01            29.0         False   \n",
       "4          24-01-2013 14:53            83.0         False   \n",
       "...                     ...             ...           ...   \n",
       "399640  2010-05-22 08:23:41             4.0         False   \n",
       "399641  2009-04-08 14:13:14           472.0         False   \n",
       "399642  2007-09-21 18:02:13          3254.0         False   \n",
       "399643  2018-03-14 02:56:10           560.0         False   \n",
       "399644  2010-07-11 18:19:04          3423.0         False   \n",
       "\n",
       "                                                 hashtags          Sentiment  \\\n",
       "0                                        ['CovidVaccine']           Positive   \n",
       "1       ['CoronavirusVaccine', 'CoronaVaccine', 'Covid...  Strongly Positive   \n",
       "2                                                     NaN           Negative   \n",
       "3                                                     NaN           Positive   \n",
       "4                                                     NaN            Neutral   \n",
       "...                                                   ...                ...   \n",
       "399640  ['BillGates', 'BillGatesBioTerrorist', 'COVID1...            Neutral   \n",
       "399641   ['COVID19', 'CovidVaccine', 'cdnpoli', 'abpoli']           Positive   \n",
       "399642  ['Sask', 'kids', 'news', 'canada', 'government...           Positive   \n",
       "399643               ['COVID', 'Vaccine', 'COVIDvaccine']  Strongly Negative   \n",
       "399644  ['CovidVaccine', 'COVID19', 'COVID', 'CovidIsN...            Neutral   \n",
       "\n",
       "                                          text_lemmatized  label  \n",
       "0       ['australia', 'manufacture', 'covid19', 'vacci...      0  \n",
       "1       ['coronavirusvaccine', 'coronavaccine', 'covid...      1  \n",
       "2       ['death', 'due', 'covid19', 'affected', 'count...      2  \n",
       "3       ['team_subhashree', 'subhashreesotwe', 'iamraj...      0  \n",
       "4       ['michellegrattan', 'conversationedu', 'pass',...      3  \n",
       "...                                                   ...    ...  \n",
       "399640  ['billgates', 'billgatesbioterrorist', 'billga...      3  \n",
       "399641  ['incredible', 'pfizer', 'bos', 'backtracking'...      0  \n",
       "399642  ['sask', 'social', 'service', 'admits', 'vaxxi...      0  \n",
       "399643  ['pharmaceutical', 'industry', 'would', 'never...      4  \n",
       "399644  ['running', 'money', 'covidvaccine', 'covid19'...      3  \n",
       "\n",
       "[399645 rows x 9 columns]"
      ]
     },
     "execution_count": 142,
     "metadata": {},
     "output_type": "execute_result"
    }
   ],
   "source": [
    "DF_Covid_Vaccine = DF_Covid_Vaccine[['date', 'user_location', 'user_created', 'user_followers', 'user_verified', 'hashtags', 'Sentiment','text_lemmatized' ]]\n",
    "\n",
    "possible_labels = DF_Covid_Vaccine.Sentiment.unique()\n",
    "\n",
    "label_dict = {}\n",
    "for index, possible_label in enumerate(possible_labels):\n",
    "    label_dict[possible_label] = index\n",
    "\n",
    "DF_Covid_Vaccine['label'] = DF_Covid_Vaccine.Sentiment.replace(label_dict)\n",
    "\n",
    "print(label_dict)\n",
    "\n",
    "DF_Covid_Vaccine"
   ]
  },
  {
   "cell_type": "markdown",
   "id": "507845db",
   "metadata": {},
   "source": [
    "# DF_Tweets_Canvas Sentiment Analysis"
   ]
  },
  {
   "cell_type": "code",
   "execution_count": 144,
   "id": "1e84f265",
   "metadata": {},
   "outputs": [],
   "source": [
    "### Applying the same sentiment assignment and labelling process as used with the first dataset\n",
    "\n",
    "DF_Tweets_Canvas['Polarity'] = DF_Tweets_Canvas['text_lemmatized'].apply(Polarity_Score)"
   ]
  },
  {
   "cell_type": "code",
   "execution_count": 145,
   "id": "e5532802",
   "metadata": {},
   "outputs": [],
   "source": [
    "DF_Tweets_Canvas['Sentiment'] = DF_Tweets_Canvas['Polarity'].apply(Sentiment_Analysis)"
   ]
  },
  {
   "cell_type": "code",
   "execution_count": 146,
   "id": "60c333ca",
   "metadata": {},
   "outputs": [
    {
     "name": "stdout",
     "output_type": "stream",
     "text": [
      "{'Neutral': 0, 'Negative': 1, 'Positive': 2, 'Strongly Positive': 3, 'Strongly Negative': 4}\n"
     ]
    },
    {
     "name": "stderr",
     "output_type": "stream",
     "text": [
      "C:\\Users\\carlp\\AppData\\Local\\Temp\\ipykernel_1968\\1338697355.py:11: SettingWithCopyWarning: \n",
      "A value is trying to be set on a copy of a slice from a DataFrame.\n",
      "Try using .loc[row_indexer,col_indexer] = value instead\n",
      "\n",
      "See the caveats in the documentation: https://pandas.pydata.org/pandas-docs/stable/user_guide/indexing.html#returning-a-view-versus-a-copy\n",
      "  DF_Tweets_Canvas['label'] = DF_Tweets_Canvas.Sentiment.replace(label_dict)\n"
     ]
    },
    {
     "data": {
      "text/html": [
       "<div>\n",
       "<style scoped>\n",
       "    .dataframe tbody tr th:only-of-type {\n",
       "        vertical-align: middle;\n",
       "    }\n",
       "\n",
       "    .dataframe tbody tr th {\n",
       "        vertical-align: top;\n",
       "    }\n",
       "\n",
       "    .dataframe thead th {\n",
       "        text-align: right;\n",
       "    }\n",
       "</style>\n",
       "<table border=\"1\" class=\"dataframe\">\n",
       "  <thead>\n",
       "    <tr style=\"text-align: right;\">\n",
       "      <th></th>\n",
       "      <th>date</th>\n",
       "      <th>user_location</th>\n",
       "      <th>user_created</th>\n",
       "      <th>user_followers</th>\n",
       "      <th>user_verified</th>\n",
       "      <th>hashtags</th>\n",
       "      <th>Sentiment</th>\n",
       "      <th>text_lemmatized</th>\n",
       "      <th>label</th>\n",
       "    </tr>\n",
       "  </thead>\n",
       "  <tbody>\n",
       "    <tr>\n",
       "      <th>0</th>\n",
       "      <td>2020-12-20 06:06:44</td>\n",
       "      <td>La Crescenta-Montrose, CA</td>\n",
       "      <td>2009-04-08 17:52:46</td>\n",
       "      <td>405</td>\n",
       "      <td>False</td>\n",
       "      <td>['PfizerBioNTech']</td>\n",
       "      <td>Neutral</td>\n",
       "      <td>['folk', 'said', 'daikon', 'paste', 'could', '...</td>\n",
       "      <td>0</td>\n",
       "    </tr>\n",
       "    <tr>\n",
       "      <th>1</th>\n",
       "      <td>2020-12-13 16:27:13</td>\n",
       "      <td>San Francisco, CA</td>\n",
       "      <td>2009-09-21 15:27:30</td>\n",
       "      <td>834</td>\n",
       "      <td>False</td>\n",
       "      <td>NaN</td>\n",
       "      <td>Negative</td>\n",
       "      <td>['world', 'wrong', 'side', 'history', 'year', ...</td>\n",
       "      <td>1</td>\n",
       "    </tr>\n",
       "    <tr>\n",
       "      <th>2</th>\n",
       "      <td>2020-12-12 20:33:45</td>\n",
       "      <td>Your Bed</td>\n",
       "      <td>2020-06-25 23:30:28</td>\n",
       "      <td>10</td>\n",
       "      <td>False</td>\n",
       "      <td>['coronavirus', 'SputnikV', 'AstraZeneca', 'Pf...</td>\n",
       "      <td>Neutral</td>\n",
       "      <td>['coronavirus', 'sputnikv', 'astrazeneca', 'pf...</td>\n",
       "      <td>0</td>\n",
       "    </tr>\n",
       "    <tr>\n",
       "      <th>3</th>\n",
       "      <td>2020-12-12 20:23:59</td>\n",
       "      <td>Vancouver, BC - Canada</td>\n",
       "      <td>2008-09-10 11:28:53</td>\n",
       "      <td>49165</td>\n",
       "      <td>True</td>\n",
       "      <td>NaN</td>\n",
       "      <td>Positive</td>\n",
       "      <td>['fact', 'immutable', 'senator', 'even', 'your...</td>\n",
       "      <td>2</td>\n",
       "    </tr>\n",
       "    <tr>\n",
       "      <th>4</th>\n",
       "      <td>2020-12-12 20:17:19</td>\n",
       "      <td>NaN</td>\n",
       "      <td>2020-04-23 17:58:42</td>\n",
       "      <td>152</td>\n",
       "      <td>False</td>\n",
       "      <td>['whereareallthesickpeople', 'PfizerBioNTech']</td>\n",
       "      <td>Neutral</td>\n",
       "      <td>['explain', 'need', 'vaccine', 'borisjohnson',...</td>\n",
       "      <td>0</td>\n",
       "    </tr>\n",
       "    <tr>\n",
       "      <th>...</th>\n",
       "      <td>...</td>\n",
       "      <td>...</td>\n",
       "      <td>...</td>\n",
       "      <td>...</td>\n",
       "      <td>...</td>\n",
       "      <td>...</td>\n",
       "      <td>...</td>\n",
       "      <td>...</td>\n",
       "      <td>...</td>\n",
       "    </tr>\n",
       "    <tr>\n",
       "      <th>11015</th>\n",
       "      <td>2021-11-17 11:27:49</td>\n",
       "      <td>Petaling Jaya</td>\n",
       "      <td>2009-07-29 01:58:44</td>\n",
       "      <td>151937</td>\n",
       "      <td>False</td>\n",
       "      <td>NaN</td>\n",
       "      <td>Neutral</td>\n",
       "      <td>['number', 'covid19', 'case', 'today', '17', '...</td>\n",
       "      <td>0</td>\n",
       "    </tr>\n",
       "    <tr>\n",
       "      <th>11016</th>\n",
       "      <td>2021-11-17 03:17:44</td>\n",
       "      <td>NaN</td>\n",
       "      <td>2013-01-28 11:48:20</td>\n",
       "      <td>4259</td>\n",
       "      <td>False</td>\n",
       "      <td>['PfizerBioNTech']</td>\n",
       "      <td>Positive</td>\n",
       "      <td>['first', 'dose', 'pfizerbiontech']</td>\n",
       "      <td>2</td>\n",
       "    </tr>\n",
       "    <tr>\n",
       "      <th>11017</th>\n",
       "      <td>2021-11-16 12:14:00</td>\n",
       "      <td>Petaling Jaya</td>\n",
       "      <td>2009-07-29 01:58:44</td>\n",
       "      <td>151937</td>\n",
       "      <td>False</td>\n",
       "      <td>NaN</td>\n",
       "      <td>Neutral</td>\n",
       "      <td>['number', 'covid19', 'case', 'today', '16', '...</td>\n",
       "      <td>0</td>\n",
       "    </tr>\n",
       "    <tr>\n",
       "      <th>11018</th>\n",
       "      <td>2021-11-15 20:29:42</td>\n",
       "      <td>Ireland</td>\n",
       "      <td>2012-08-13 13:47:03</td>\n",
       "      <td>1</td>\n",
       "      <td>False</td>\n",
       "      <td>['PfizerBioNTech', 'Paxlovid', 'COVID19']</td>\n",
       "      <td>Negative</td>\n",
       "      <td>['pfizerbiontech', 'developed', 'new', 'pill',...</td>\n",
       "      <td>1</td>\n",
       "    </tr>\n",
       "    <tr>\n",
       "      <th>11019</th>\n",
       "      <td>2021-11-15 11:28:34</td>\n",
       "      <td>Petaling Jaya</td>\n",
       "      <td>2009-07-29 01:58:44</td>\n",
       "      <td>151937</td>\n",
       "      <td>False</td>\n",
       "      <td>NaN</td>\n",
       "      <td>Neutral</td>\n",
       "      <td>['number', 'covid19', 'case', 'today', '15', '...</td>\n",
       "      <td>0</td>\n",
       "    </tr>\n",
       "  </tbody>\n",
       "</table>\n",
       "<p>11020 rows × 9 columns</p>\n",
       "</div>"
      ],
      "text/plain": [
       "                      date              user_location         user_created  \\\n",
       "0      2020-12-20 06:06:44  La Crescenta-Montrose, CA  2009-04-08 17:52:46   \n",
       "1      2020-12-13 16:27:13          San Francisco, CA  2009-09-21 15:27:30   \n",
       "2      2020-12-12 20:33:45                   Your Bed  2020-06-25 23:30:28   \n",
       "3      2020-12-12 20:23:59     Vancouver, BC - Canada  2008-09-10 11:28:53   \n",
       "4      2020-12-12 20:17:19                        NaN  2020-04-23 17:58:42   \n",
       "...                    ...                        ...                  ...   \n",
       "11015  2021-11-17 11:27:49              Petaling Jaya  2009-07-29 01:58:44   \n",
       "11016  2021-11-17 03:17:44                        NaN  2013-01-28 11:48:20   \n",
       "11017  2021-11-16 12:14:00              Petaling Jaya  2009-07-29 01:58:44   \n",
       "11018  2021-11-15 20:29:42                    Ireland  2012-08-13 13:47:03   \n",
       "11019  2021-11-15 11:28:34              Petaling Jaya  2009-07-29 01:58:44   \n",
       "\n",
       "       user_followers  user_verified  \\\n",
       "0                 405          False   \n",
       "1                 834          False   \n",
       "2                  10          False   \n",
       "3               49165           True   \n",
       "4                 152          False   \n",
       "...               ...            ...   \n",
       "11015          151937          False   \n",
       "11016            4259          False   \n",
       "11017          151937          False   \n",
       "11018               1          False   \n",
       "11019          151937          False   \n",
       "\n",
       "                                                hashtags Sentiment  \\\n",
       "0                                     ['PfizerBioNTech']   Neutral   \n",
       "1                                                    NaN  Negative   \n",
       "2      ['coronavirus', 'SputnikV', 'AstraZeneca', 'Pf...   Neutral   \n",
       "3                                                    NaN  Positive   \n",
       "4         ['whereareallthesickpeople', 'PfizerBioNTech']   Neutral   \n",
       "...                                                  ...       ...   \n",
       "11015                                                NaN   Neutral   \n",
       "11016                                 ['PfizerBioNTech']  Positive   \n",
       "11017                                                NaN   Neutral   \n",
       "11018          ['PfizerBioNTech', 'Paxlovid', 'COVID19']  Negative   \n",
       "11019                                                NaN   Neutral   \n",
       "\n",
       "                                         text_lemmatized  label  \n",
       "0      ['folk', 'said', 'daikon', 'paste', 'could', '...      0  \n",
       "1      ['world', 'wrong', 'side', 'history', 'year', ...      1  \n",
       "2      ['coronavirus', 'sputnikv', 'astrazeneca', 'pf...      0  \n",
       "3      ['fact', 'immutable', 'senator', 'even', 'your...      2  \n",
       "4      ['explain', 'need', 'vaccine', 'borisjohnson',...      0  \n",
       "...                                                  ...    ...  \n",
       "11015  ['number', 'covid19', 'case', 'today', '17', '...      0  \n",
       "11016                ['first', 'dose', 'pfizerbiontech']      2  \n",
       "11017  ['number', 'covid19', 'case', 'today', '16', '...      0  \n",
       "11018  ['pfizerbiontech', 'developed', 'new', 'pill',...      1  \n",
       "11019  ['number', 'covid19', 'case', 'today', '15', '...      0  \n",
       "\n",
       "[11020 rows x 9 columns]"
      ]
     },
     "execution_count": 146,
     "metadata": {},
     "output_type": "execute_result"
    }
   ],
   "source": [
    "DF_Tweets_Canvas = DF_Tweets_Canvas[['date', 'user_location', 'user_created', 'user_followers', 'user_verified', 'hashtags','Sentiment','text_lemmatized' ]]\n",
    "\n",
    "possible_labels = DF_Tweets_Canvas.Sentiment.unique()\n",
    "\n",
    "label_dict = {}\n",
    "for index, possible_label in enumerate(possible_labels):\n",
    "    label_dict[possible_label] = index\n",
    "\n",
    "DF_Tweets_Canvas['label'] = DF_Tweets_Canvas.Sentiment.replace(label_dict)\n",
    "\n",
    "\n",
    "print(label_dict)\n",
    "\n",
    "DF_Tweets_Canvas"
   ]
  },
  {
   "cell_type": "markdown",
   "id": "8f99bcdb",
   "metadata": {},
   "source": [
    "# Web-scraped Tweets Sentiment Analysis Visualisation"
   ]
  },
  {
   "cell_type": "code",
   "execution_count": 156,
   "id": "079dbcb2",
   "metadata": {},
   "outputs": [
    {
     "data": {
      "text/plain": [
       "Text(0.5, 1.0, 'Distribution of Sentiment from web-scraped 2021 Tweets')"
      ]
     },
     "execution_count": 156,
     "metadata": {},
     "output_type": "execute_result"
    },
    {
     "data": {
      "image/png": "[encoded data removed]",
      "text/plain": [
       "<Figure size 720x360 with 1 Axes>"
      ]
     },
     "metadata": {
      "needs_background": "light"
     },
     "output_type": "display_data"
    }
   ],
   "source": [
    "### Bar plot visualisation distribution of sentiment\n",
    "\n",
    "plt.figure(figsize=(10,5))\n",
    "ax = Tweets_2021['Sentiment'].value_counts(sort=False).plot(kind='barh')\n",
    "ax.set_xlabel('Number of Samples in dataset')\n",
    "ax.set_ylabel('Sentiment')\n",
    "ax.set_title('Distribution of Sentiment from web-scraped 2021 Tweets')\n",
    "plt.show()"
   ]
  },
  {
   "cell_type": "code",
   "execution_count": 204,
   "id": "e2c2b04d",
   "metadata": {},
   "outputs": [
    {
     "name": "stdout",
     "output_type": "stream",
     "text": [
      "Positive             148754\n",
      "Neutral              124932\n",
      "Negative              74399\n",
      "Strongly Positive     10894\n",
      "Strongly Negative      6021\n",
      "Name: Sentiment, dtype: int64\n"
     ]
    },
    {
     "data": {
      "text/plain": [
       "<AxesSubplot:title={'center':'Sentiment Distribution of Web-scraped Tweets 2021'}, ylabel='Sentiment'>"
      ]
     },
     "execution_count": 204,
     "metadata": {},
     "output_type": "execute_result"
    },
    {
     "data": {
      "image/png": "[encoded data removed]",
      "text/plain": [
       "<Figure size 432x288 with 1 Axes>"
      ]
     },
     "metadata": {},
     "output_type": "display_data"
    }
   ],
   "source": [
    "### Pie plot of Sentiment Analysis distribution\n",
    "print(Tweets_2021['Sentiment'].value_counts())\n",
    "\n",
    "Tweets_2021['Sentiment'].value_counts().plot(kind='pie',  labels=['Positive','Neutral','Negative', 'Strongly Positive', 'Strongly Negative'], \n",
    "                                             autopct='%.2f%%', title='Sentiment Distribution of Web-scraped Tweets 2021')"
   ]
  },
  {
   "cell_type": "code",
   "execution_count": 333,
   "id": "ae33f287",
   "metadata": {},
   "outputs": [
    {
     "name": "stderr",
     "output_type": "stream",
     "text": [
      "C:\\Users\\carlp\\AppData\\Local\\Temp\\ipykernel_1968\\3747587291.py:1: SettingWithCopyWarning: \n",
      "A value is trying to be set on a copy of a slice from a DataFrame.\n",
      "Try using .loc[row_indexer,col_indexer] = value instead\n",
      "\n",
      "See the caveats in the documentation: https://pandas.pydata.org/pandas-docs/stable/user_guide/indexing.html#returning-a-view-versus-a-copy\n",
      "  Tweets_2021['Date'] = pd.to_datetime(Tweets_2021['Date'])\n"
     ]
    },
    {
     "data": {
      "text/plain": [
       "<matplotlib.legend.Legend at 0x1a91e537e80>"
      ]
     },
     "execution_count": 333,
     "metadata": {},
     "output_type": "execute_result"
    },
    {
     "data": {
      "image/png": "[encoded data removed]",
      "text/plain": [
       "<Figure size 720x360 with 1 Axes>"
      ]
     },
     "metadata": {
      "needs_background": "light"
     },
     "output_type": "display_data"
    }
   ],
   "source": [
    "### Distribution of Sentiment flucuations across 2021\n",
    "\n",
    "Tweets_2021['Date'] = pd.to_datetime(Tweets_2021['Date'])\n",
    "\n",
    "Tweets_2021_2 = Tweets_2021.loc[Tweets_2021['Sentiment'] == 'Neutral']\n",
    "Tweets_2021_2.groupby([(Tweets_2021_2['Date'].dt.year), (Tweets_2021_2['Date'].dt.month)]).size().plot(xlabel='Date', \n",
    "        ylabel='Tweets', label='Neutral', title='Sentiment Distribution across 2021 - Web-scraped Tweets', legend=True, figsize=(10,5))\n",
    "\n",
    "Tweets_2021_2 = Tweets_2021.loc[Tweets_2021['Sentiment'] == 'Strongly Negative']\n",
    "Tweets_2021.groupby([(Tweets_2021_2['Date'].dt.year), (Tweets_2021_2['Date'].dt.month)]).size().plot(xlabel='Date', \n",
    "        ylabel='Tweets', label='Strongly Negative', title='Sentiment Distribution across 2021 - Web-scraped Tweets', legend=True, figsize=(10,5))\n",
    "\n",
    "Tweets_2021_2 = Tweets_2021.loc[Tweets_2021['Sentiment'] == 'Negative']\n",
    "Tweets_2021.groupby([(Tweets_2021_2['Date'].dt.year), (Tweets_2021_2['Date'].dt.month)]).size().plot(xlabel='Date', \n",
    "        ylabel='Tweets', label='Negative', title='Sentiment Distribution across 2021 - Web-scraped Tweets', legend=True, figsize=(10,5))\n",
    "\n",
    "Tweets_2021_2 = Tweets_2021.loc[Tweets_2021['Sentiment'] == 'Positive']\n",
    "Tweets_2021.groupby([(Tweets_2021_2['Date'].dt.year), (Tweets_2021_2['Date'].dt.month)]).size().plot(xlabel='Date', \n",
    "        ylabel='Tweets', label='Positive', title='Sentiment Distribution across 2021 - Web-scraped Tweets', legend=True, figsize=(10,5))\n",
    "\n",
    "Tweets_2021_2 = Tweets_2021.loc[Tweets_2021['Sentiment'] == 'Strongly Positive']\n",
    "Tweets_2021.groupby([(Tweets_2021_2['Date'].dt.year), (Tweets_2021_2['Date'].dt.month)]).size().plot(xlabel='Date', \n",
    "       ylabel='Tweets', label='Strongly Positive', title='Sentiment Distribution across 2021 - Web-scraped Tweets', legend=True, figsize=(10,5))\n",
    "\n",
    "\n",
    "plt.legend(loc = 'lower right')\n"
   ]
  },
  {
   "cell_type": "code",
   "execution_count": 110,
   "id": "3bb33b17",
   "metadata": {},
   "outputs": [
    {
     "data": {
      "text/plain": [
       "'vaccine',       371894\n",
       "'covid',         241289\n",
       "'covid19',       118991\n",
       "'get',            65312\n",
       "'people',         52268\n",
       "'amp',            30291\n",
       "'vaccinated',     26614\n",
       "'dont',           26295\n",
       "'getting',        25147\n",
       "'one',            22171\n",
       "'u',              21902\n",
       "'vaccine']        21642\n",
       "'shot',           20553\n",
       "'death',          19810\n",
       "'like',           19751\n",
       "'say',            19248\n",
       "'still',          19065\n",
       "'got',            18852\n",
       "'im',             17339\n",
       "'know',           16757\n",
       "dtype: int64"
      ]
     },
     "execution_count": 110,
     "metadata": {},
     "output_type": "execute_result"
    }
   ],
   "source": [
    "### Most common words for Tweets_2021 dataset\n",
    "\n",
    "most_common_words = pd.Series(' '.join(Tweets_2021['text_lemmatized']).split()).value_counts()[:20]\n",
    "most_common_words"
   ]
  },
  {
   "cell_type": "code",
   "execution_count": 116,
   "id": "586edd04",
   "metadata": {},
   "outputs": [
    {
     "data": {
      "text/plain": [
       "<matplotlib.image.AxesImage at 0x1a8ffe210d0>"
      ]
     },
     "execution_count": 116,
     "metadata": {},
     "output_type": "execute_result"
    },
    {
     "data": {
      "image/png": "[encoded data removed]",
      "text/plain": [
       "<Figure size 432x288 with 1 Axes>"
      ]
     },
     "metadata": {
      "needs_background": "light"
     },
     "output_type": "display_data"
    }
   ],
   "source": [
    "### Word Cloud of Tweets_2021 most common words\n",
    "\n",
    "m_c_w = most_common_words.to_dict()\n",
    "wordcloud = WordCloud(max_font_size=61.8, max_words=20, background_color=\"white\").generate(' '.join(x for x in m_c_w.keys()))\n",
    "plt.axis('off')\n",
    "plt.title(\"Most common words- Web-scraped Tweets 2021\")\n",
    "plt.imshow(wordcloud)    "
   ]
  },
  {
   "cell_type": "markdown",
   "id": "5d751126",
   "metadata": {},
   "source": [
    "# DF_Covid_Vaccine Kaggle Tweet Sentiment Analysis Visualisation"
   ]
  },
  {
   "cell_type": "code",
   "execution_count": 106,
   "id": "6e1602ef",
   "metadata": {},
   "outputs": [
    {
     "data": {
      "text/plain": [
       "Text(0.5, 1.0, 'Distribution of Sentiment from Kaggle Covid Vaccine dataset')"
      ]
     },
     "execution_count": 106,
     "metadata": {},
     "output_type": "execute_result"
    },
    {
     "data": {
      "image/png": "[encoded data removed]",
      "text/plain": [
       "<Figure size 720x360 with 1 Axes>"
      ]
     },
     "metadata": {
      "needs_background": "light"
     },
     "output_type": "display_data"
    }
   ],
   "source": [
    "### DF_Covid_Vaccine dataset visualising distribution of sentiment\n",
    "plt.figure(figsize=(10,5))\n",
    "ax = DF_Covid_Vaccine['Sentiment'].value_counts(sort=False).plot(kind='barh')\n",
    "ax.set_xlabel('Number of Samples in dataset')\n",
    "ax.set_ylabel('Sentiment')\n",
    "ax.set_title('Distribution of Sentiment from Kaggle Covid Vaccine dataset')"
   ]
  },
  {
   "cell_type": "code",
   "execution_count": 207,
   "id": "49a52636",
   "metadata": {},
   "outputs": [
    {
     "name": "stdout",
     "output_type": "stream",
     "text": [
      "Positive             160761\n",
      "Neutral              160210\n",
      "Negative              53236\n",
      "Strongly Positive     20456\n",
      "Strongly Negative      4926\n",
      "Name: Sentiment, dtype: int64\n"
     ]
    },
    {
     "data": {
      "text/plain": [
       "<AxesSubplot:title={'center':'Sentiment Distribution of Kaggle Tweets 2021'}, ylabel='Sentiment'>"
      ]
     },
     "execution_count": 207,
     "metadata": {},
     "output_type": "execute_result"
    },
    {
     "data": {
      "image/png": "[encoded data removed]",
      "text/plain": [
       "<Figure size 432x288 with 1 Axes>"
      ]
     },
     "metadata": {},
     "output_type": "display_data"
    }
   ],
   "source": [
    "### Pie plot of Sentiment\n",
    "print(DF_Covid_Vaccine['Sentiment'].value_counts())\n",
    "\n",
    "DF_Covid_Vaccine['Sentiment'].value_counts().plot(kind='pie',  labels=['Positive','Neutral','Negative', 'Strongly Positive', 'Strongly Negative'], autopct='%.2f%%', title='Sentiment Distribution of Kaggle Tweets 2021')"
   ]
  },
  {
   "cell_type": "code",
   "execution_count": 111,
   "id": "40f583ca",
   "metadata": {},
   "outputs": [
    {
     "data": {
      "text/plain": [
       "'covidvaccine',    266039\n",
       "'vaccine',         110538\n",
       "'covid19',          95137\n",
       "'covid',            49781\n",
       "'get',              45455\n",
       "'slot',             38365\n",
       "'vaccination',      31210\n",
       "'amp',              30979\n",
       "'vaccinated',       28287\n",
       "'covidvaccine']     28177\n",
       "'people',           27209\n",
       "'dose',             23023\n",
       "'free',             22296\n",
       "'first',            19786\n",
       "'today',            18826\n",
       "'coronavirus',      18028\n",
       "'covishield',       17794\n",
       "'paid',             17687\n",
       "'availability',     17585\n",
       "'bengaluru',        17286\n",
       "dtype: int64"
      ]
     },
     "execution_count": 111,
     "metadata": {},
     "output_type": "execute_result"
    }
   ],
   "source": [
    "### most common words for Kaggel Covid Vaccine tweets\n",
    "\n",
    "most_common_words2 = pd.Series(' '.join(DF_Covid_Vaccine['text_lemmatized']).split()).value_counts()[:20]\n",
    "most_common_words2"
   ]
  },
  {
   "cell_type": "code",
   "execution_count": 117,
   "id": "995762a8",
   "metadata": {},
   "outputs": [
    {
     "data": {
      "text/plain": [
       "<matplotlib.image.AxesImage at 0x1a8ffdf7dc0>"
      ]
     },
     "execution_count": 117,
     "metadata": {},
     "output_type": "execute_result"
    },
    {
     "data": {
      "image/png": "[encoded data removed]",
      "text/plain": [
       "<Figure size 432x288 with 1 Axes>"
      ]
     },
     "metadata": {
      "needs_background": "light"
     },
     "output_type": "display_data"
    }
   ],
   "source": [
    "### Word Cloud of most common words in dataset\n",
    "m_c_w2 = most_common_words2.to_dict()\n",
    "wordcloud = WordCloud(max_font_size=61.8, max_words=20, background_color=\"white\").generate(' '.join(x for x in m_c_w2.keys()))\n",
    "plt.axis('off')\n",
    "plt.title(\"Most common words- Kaggle Covid Vaccine Tweets\")\n",
    "plt.imshow(wordcloud)"
   ]
  },
  {
   "cell_type": "markdown",
   "id": "fd46b7ad",
   "metadata": {},
   "source": [
    "# DF_Tweets_Canvas Tweet Sentiment Analysis Visualisation"
   ]
  },
  {
   "cell_type": "code",
   "execution_count": 105,
   "id": "08faeb9e",
   "metadata": {},
   "outputs": [
    {
     "data": {
      "text/plain": [
       "Text(0.5, 1.0, 'Distribution of Sentiment from Canvas tweet dataset')"
      ]
     },
     "execution_count": 105,
     "metadata": {},
     "output_type": "execute_result"
    },
    {
     "data": {
      "image/png": "[encoded data removed]",
      "text/plain": [
       "<Figure size 720x360 with 1 Axes>"
      ]
     },
     "metadata": {
      "needs_background": "light"
     },
     "output_type": "display_data"
    }
   ],
   "source": [
    "### Visualising DF_Tweets_Canvas Sentiment distribution\n",
    "\n",
    "plt.figure(figsize=(10,5))\n",
    "ax = DF_Tweets_Canvas['Sentiment'].value_counts(sort=False).plot(kind='barh')\n",
    "ax.set_xlabel('Number of Samples in dataset')\n",
    "ax.set_ylabel('Sentiment')\n",
    "ax.set_title('Distribution of Sentiment from Canvas tweet dataset')"
   ]
  },
  {
   "cell_type": "code",
   "execution_count": 208,
   "id": "08c799b7",
   "metadata": {},
   "outputs": [
    {
     "name": "stdout",
     "output_type": "stream",
     "text": [
      "Neutral              5473\n",
      "Positive             3812\n",
      "Negative             1020\n",
      "Strongly Positive     638\n",
      "Strongly Negative      77\n",
      "Name: Sentiment, dtype: int64\n"
     ]
    },
    {
     "data": {
      "text/plain": [
       "<AxesSubplot:title={'center':'Sentiment Distribution of Canvas Covid Vaccine Tweets'}, ylabel='Sentiment'>"
      ]
     },
     "execution_count": 208,
     "metadata": {},
     "output_type": "execute_result"
    },
    {
     "data": {
      "image/png": "[encoded data removed]",
      "text/plain": [
       "<Figure size 432x288 with 1 Axes>"
      ]
     },
     "metadata": {},
     "output_type": "display_data"
    }
   ],
   "source": [
    "### Pie plot of Seniment distribution \n",
    "print(DF_Tweets_Canvas['Sentiment'].value_counts())\n",
    "\n",
    "DF_Tweets_Canvas['Sentiment'].value_counts().plot(kind='pie',  labels=['Neutral','Positive','Negative', 'Strongly Positive', 'Strongly Negative'],\n",
    "                                                  autopct='%.2f%%', title='Sentiment Distribution of Canvas Covid Vaccine Tweets')"
   ]
  },
  {
   "cell_type": "code",
   "execution_count": 177,
   "id": "ae5f60e9",
   "metadata": {},
   "outputs": [
    {
     "name": "stderr",
     "output_type": "stream",
     "text": [
      "C:\\Users\\carlp\\AppData\\Local\\Temp\\ipykernel_1968\\4275953319.py:1: SettingWithCopyWarning: \n",
      "A value is trying to be set on a copy of a slice from a DataFrame.\n",
      "Try using .loc[row_indexer,col_indexer] = value instead\n",
      "\n",
      "See the caveats in the documentation: https://pandas.pydata.org/pandas-docs/stable/user_guide/indexing.html#returning-a-view-versus-a-copy\n",
      "  DF_Tweets_Canvas['date'] = pd.to_datetime(DF_Tweets_Canvas['date'])\n"
     ]
    },
    {
     "data": {
      "text/plain": [
       "<AxesSubplot:title={'center':'Sentiment Distribution across 2021 - Canvas Tweets'}, xlabel='Date', ylabel='Tweets'>"
      ]
     },
     "execution_count": 177,
     "metadata": {},
     "output_type": "execute_result"
    },
    {
     "data": {
      "image/png": "[encoded data removed]",
      "text/plain": [
       "<Figure size 720x360 with 1 Axes>"
      ]
     },
     "metadata": {
      "needs_background": "light"
     },
     "output_type": "display_data"
    }
   ],
   "source": [
    "### Time course visualisation of sentiment fluctuation across 2021\n",
    "\n",
    "DF_Tweets_Canvas['date'] = pd.to_datetime(DF_Tweets_Canvas['date'])\n",
    "\n",
    "DF_Tweets_Canvas_2 = DF_Tweets_Canvas.loc[DF_Tweets_Canvas['Sentiment'] == 'Neutral']\n",
    "DF_Tweets_Canvas_2.groupby([(DF_Tweets_Canvas_2['date'].dt.year), (DF_Tweets_Canvas_2['date'].dt.month)]).size().plot(xlabel='Date', ylabel='Tweets', label='Neutral', title='Sentiment Distribution across 2021 - Canvas Tweets', legend=True, figsize=(10,5))\n",
    "\n",
    "DF_Tweets_Canvas_2 = DF_Tweets_Canvas.loc[DF_Tweets_Canvas['Sentiment'] == 'Strongly Negative']\n",
    "DF_Tweets_Canvas_2.groupby([(DF_Tweets_Canvas_2['date'].dt.year), (DF_Tweets_Canvas_2['date'].dt.month)]).size().plot(xlabel='Date', ylabel='Tweets', label='Strongly Negative', title='Sentiment Distribution across 2021 - Canvas Tweets', legend=True, figsize=(10,5))\n",
    "\n",
    "DF_Tweets_Canvas_2 = DF_Tweets_Canvas.loc[DF_Tweets_Canvas['Sentiment'] == 'Negative']\n",
    "DF_Tweets_Canvas_2.groupby([(DF_Tweets_Canvas_2['date'].dt.year), (DF_Tweets_Canvas_2['date'].dt.month)]).size().plot(xlabel='Date', ylabel='Tweets', label='Negative', title='Sentiment Distribution across 2021 - Canvas Tweets', legend=True, figsize=(10,5))\n",
    "\n",
    "DF_Tweets_Canvas_2 = DF_Tweets_Canvas.loc[DF_Tweets_Canvas['Sentiment'] == 'Positive']\n",
    "DF_Tweets_Canvas_2.groupby([(DF_Tweets_Canvas_2['date'].dt.year), (DF_Tweets_Canvas_2['date'].dt.month)]).size().plot(xlabel='Date', ylabel='Tweets', label='Positive', title='Sentiment Distribution across 2021 - Canvas Tweets', legend=True, figsize=(10,5))\n",
    "\n",
    "DF_Tweets_Canvas_2 = DF_Tweets_Canvas.loc[DF_Tweets_Canvas['Sentiment'] == 'Strongly Positive']\n",
    "DF_Tweets_Canvas_2.groupby([(DF_Tweets_Canvas_2['date'].dt.year), (DF_Tweets_Canvas_2['date'].dt.month)]).size().plot(xlabel='Date', ylabel='Tweets', label='Strongly Positive', title='Sentiment Distribution across 2021 - Canvas Tweets', legend=True, figsize=(10,5))\n"
   ]
  },
  {
   "cell_type": "code",
   "execution_count": 112,
   "id": "34c3f5ec",
   "metadata": {},
   "outputs": [
    {
     "data": {
      "text/plain": [
       "'pfizerbiontech',     5489\n",
       "'vaccine',            4920\n",
       "'covid19',            2258\n",
       "'dose',               1457\n",
       "'pfizer',             1391\n",
       "'first',               975\n",
       "'today',               767\n",
       "'vaccinated',          693\n",
       "'covidvaccine',        680\n",
       "'covid',               665\n",
       "'vaccination',         652\n",
       "'get',                 563\n",
       "'shot',                538\n",
       "'dos',                 489\n",
       "'amp',                 474\n",
       "['pfizerbiontech',     451\n",
       "'pfizervaccine',       438\n",
       "'second',              432\n",
       "'moderna',             412\n",
       "'people',              411\n",
       "dtype: int64"
      ]
     },
     "execution_count": 112,
     "metadata": {},
     "output_type": "execute_result"
    }
   ],
   "source": [
    "### most common words for Canvas Covid Vaccine tweets\n",
    "\n",
    "most_common_words3 = pd.Series(' '.join(DF_Tweets_Canvas['text_lemmatized']).split()).value_counts()[:20]\n",
    "most_common_words3"
   ]
  },
  {
   "cell_type": "code",
   "execution_count": 118,
   "id": "a93c311a",
   "metadata": {},
   "outputs": [
    {
     "data": {
      "text/plain": [
       "<matplotlib.image.AxesImage at 0x1a887627be0>"
      ]
     },
     "execution_count": 118,
     "metadata": {},
     "output_type": "execute_result"
    },
    {
     "data": {
      "image/png": "[encoded data removed]",
      "text/plain": [
       "<Figure size 432x288 with 1 Axes>"
      ]
     },
     "metadata": {
      "needs_background": "light"
     },
     "output_type": "display_data"
    }
   ],
   "source": [
    "### Word cloud of most common words\n",
    "\n",
    "m_c_w3 = most_common_words3.to_dict()\n",
    "wordcloud = WordCloud(max_font_size=61.8, max_words=20, background_color=\"white\").generate(' '.join(x for x in m_c_w3.keys()))\n",
    "plt.axis('off')\n",
    "plt.title(\"Most common words- Canvas Covid Vaccine Tweets\")\n",
    "plt.imshow(wordcloud)"
   ]
  },
  {
   "cell_type": "markdown",
   "id": "7cc31a97",
   "metadata": {},
   "source": [
    "# Machine Learning Approach to Sentiment Analysis"
   ]
  },
  {
   "cell_type": "markdown",
   "id": "dc65a95c",
   "metadata": {},
   "source": [
    "Next I explored if a machine learning classification model could successfully categorise the tweets into polarised groups. \n",
    "For this section I selected my own collected tweets as the dataset for analysis, therefore providing new insights on a unique dataset."
   ]
  },
  {
   "cell_type": "code",
   "execution_count": 261,
   "id": "0d9a33ad",
   "metadata": {},
   "outputs": [
    {
     "name": "stdout",
     "output_type": "stream",
     "text": [
      "288701\n"
     ]
    }
   ],
   "source": [
    "### Preparing the Tweets_2021 dataset for ML model application\n",
    "\n",
    "### counting the number of unique words in the dataset\n",
    "unique_words = set(Tweets_2021['text_lemmatized'])\n",
    "count = 0\n",
    "for word in unique_words:\n",
    "  count += 1\n",
    "print(count)\n"
   ]
  },
  {
   "cell_type": "code",
   "execution_count": 263,
   "id": "140a1a1b",
   "metadata": {},
   "outputs": [],
   "source": [
    "### Tokenization of the tweets\n",
    "tweet_tokenizer = Tokenizer(num_words = 288701, split=' ')\n",
    "###num_words = the maximum number of words to keep, based on word frequency. Only the most common num_words words will be kept.\n",
    "\n",
    "tweet_tokenizer.fit_on_texts(Tweets_2021['text_lemmatized'].values)\n",
    "\n",
    "X = tweet_tokenizer.texts_to_sequences(Tweets_2021['text_lemmatized'].values)"
   ]
  },
  {
   "cell_type": "code",
   "execution_count": 264,
   "id": "214a37f8",
   "metadata": {},
   "outputs": [],
   "source": [
    "### Padding to make all text vector the same length\n",
    "### this is useful for compressing the tweets into a better form for the model\n",
    "\n",
    "X = pad_sequences(X)"
   ]
  },
  {
   "cell_type": "code",
   "execution_count": 265,
   "id": "e891c610",
   "metadata": {},
   "outputs": [
    {
     "data": {
      "text/plain": [
       "array([[     0,      0,      0, ...,    192,     18,   1125],\n",
       "       [     0,      0,      0, ...,    571,    119, 181211],\n",
       "       [     0,      0,      0, ...,     94,   2100,      1],\n",
       "       ...,\n",
       "       [     0,      0,      0, ...,     60,    195, 181065],\n",
       "       [     0,      0,      0, ...,     27,      2,    260],\n",
       "       [     0,      0,      0, ...,    164,   1241,      1]])"
      ]
     },
     "execution_count": 265,
     "metadata": {},
     "output_type": "execute_result"
    }
   ],
   "source": [
    "X"
   ]
  },
  {
   "cell_type": "code",
   "execution_count": 266,
   "id": "4c79b3d4",
   "metadata": {},
   "outputs": [
    {
     "data": {
      "text/plain": [
       "array([[0, 0, 1, 0, 0],\n",
       "       [0, 1, 0, 0, 0],\n",
       "       [0, 0, 1, 0, 0],\n",
       "       ...,\n",
       "       [0, 0, 1, 0, 0],\n",
       "       [0, 1, 0, 0, 0],\n",
       "       [0, 0, 1, 0, 0]], dtype=uint8)"
      ]
     },
     "execution_count": 266,
     "metadata": {},
     "output_type": "execute_result"
    }
   ],
   "source": [
    "### Encoding the dependent y variable\n",
    "### Here using the pandas get_dummies function to set each value to a dummy/indicator value, similar to using One Hot Encoder\n",
    "y = pd.get_dummies(Tweets_2021['Sentiment']).values\n",
    "\n",
    "y"
   ]
  },
  {
   "cell_type": "code",
   "execution_count": 267,
   "id": "68ec8e6c",
   "metadata": {},
   "outputs": [],
   "source": [
    "### Split into training and test set\n",
    "\n",
    "X_train, X_test, y_train, y_test = train_test_split(X, y, test_size = 0.2, random_state = 0)"
   ]
  },
  {
   "cell_type": "code",
   "execution_count": 269,
   "id": "e416634d",
   "metadata": {},
   "outputs": [],
   "source": [
    "### Normalise the data for ease of processing using StandardScaler\n",
    "\n",
    "sc = StandardScaler()\n",
    "X_train = sc.fit_transform(X_train)\n",
    "X_test = sc.fit_transform(X_test)"
   ]
  },
  {
   "cell_type": "markdown",
   "id": "355e9102",
   "metadata": {},
   "source": [
    "The data is now prepared for classification model application"
   ]
  },
  {
   "cell_type": "markdown",
   "id": "0998c984",
   "metadata": {},
   "source": [
    "# K-Neighbor Classification"
   ]
  },
  {
   "cell_type": "code",
   "execution_count": 270,
   "id": "e2886c7d",
   "metadata": {},
   "outputs": [],
   "source": [
    "classifier = KNeighborsClassifier(n_neighbors = 5, metric = 'minkowski', p = 2)\n",
    "classifier.fit(X_train, y_train)\n",
    "y_pred = classifier.predict(X_test)"
   ]
  },
  {
   "cell_type": "code",
   "execution_count": 271,
   "id": "5c30b9fa",
   "metadata": {},
   "outputs": [
    {
     "name": "stdout",
     "output_type": "stream",
     "text": [
      "[[ 6984  2714  5176     8    19]\n",
      " [ 6395 12922  5535    23    41]\n",
      " [ 9487  5797 14420    18    55]\n",
      " [  541   295   374    31     0]\n",
      " [  852   614   639     4    56]]\n"
     ]
    },
    {
     "data": {
      "text/plain": [
       "0.4179041095890411"
      ]
     },
     "execution_count": 271,
     "metadata": {},
     "output_type": "execute_result"
    }
   ],
   "source": [
    "### Confusion Matrix\n",
    "cm = confusion_matrix(y_test.argmax(axis=1), y_pred.argmax(axis=1))\n",
    "print(cm)\n",
    "accuracy_score(y_test, y_pred)"
   ]
  },
  {
   "cell_type": "markdown",
   "id": "a9716e0c",
   "metadata": {},
   "source": [
    "Accuracy score of 0.42 is quite low and would indicate that this model has struggled to classify the sentiment of the Covid Vaccine tweets"
   ]
  },
  {
   "cell_type": "markdown",
   "id": "fbc81c07",
   "metadata": {},
   "source": [
    "# Recurrent Neural Network"
   ]
  },
  {
   "cell_type": "code",
   "execution_count": 315,
   "id": "762ad74a",
   "metadata": {},
   "outputs": [
    {
     "name": "stdout",
     "output_type": "stream",
     "text": [
      "Model: \"sequential_2\"\n",
      "_________________________________________________________________\n",
      " Layer (type)                Output Shape              Param #   \n",
      "=================================================================\n",
      " embedding_1 (Embedding)     (None, 99, 256)           73907456  \n",
      "                                                                 \n",
      " dropout_1 (Dropout)         (None, 99, 256)           0         \n",
      "                                                                 \n",
      " lstm_2 (LSTM)               (None, 99, 128)           197120    \n",
      "                                                                 \n",
      " lstm_3 (LSTM)               (None, 128)               131584    \n",
      "                                                                 \n",
      " dense_1 (Dense)             (None, 5)                 645       \n",
      "                                                                 \n",
      "=================================================================\n",
      "Total params: 74,236,805\n",
      "Trainable params: 74,236,805\n",
      "Non-trainable params: 0\n",
      "_________________________________________________________________\n"
     ]
    }
   ],
   "source": [
    "#creating models RNN\n",
    "\n",
    "RNN_model= Sequential()                                       ###using Keras Sequential for time series data analysis\n",
    "RNN_model.add(Embedding(288701, 256 , input_length = X.shape[1]))   ### setting the network shape limits\n",
    "RNN_model.add(Dropout(0.3))\n",
    "\n",
    "\n",
    "RNN_model.add(LSTM(128 , return_sequences=True , dropout=0.3 , recurrent_dropout=0.3))  ### employing Long Short Term Memory (LSTM)\n",
    "RNN_model.add(LSTM(128,dropout=0.3 , recurrent_dropout=0.3))\n",
    "\n",
    "RNN_model.add(Dense(5 , activation='softmax'))\n",
    "\n",
    "RNN_model.summary()"
   ]
  },
  {
   "cell_type": "code",
   "execution_count": 316,
   "id": "05fbc7dc",
   "metadata": {},
   "outputs": [],
   "source": [
    "RNN_model.compile(optimizer='adam' , loss = 'categorical_crossentropy' , metrics=['accuracy'])  \n",
    "### adam optimiser reduces computational burden and therefore should increase model speed\n",
    "### categorical_crossentrophy calculates the loss between the label and prediction and is useful for multiple label classes "
   ]
  },
  {
   "cell_type": "code",
   "execution_count": 317,
   "id": "0105cca5",
   "metadata": {},
   "outputs": [],
   "source": [
    "#training model\n",
    "\n",
    "batch_size = 128\n",
    "epochs = 3                         ### repetitions of the model"
   ]
  },
  {
   "cell_type": "code",
   "execution_count": 318,
   "id": "1be4a702",
   "metadata": {},
   "outputs": [
    {
     "name": "stdout",
     "output_type": "stream",
     "text": [
      "Epoch 1/3\n",
      "WARNING:tensorflow:AutoGraph could not transform <function Model.make_train_function.<locals>.train_function at 0x000001AD59686700> and will run it as-is.\n",
      "Please report this to the TensorFlow team. When filing the bug, set the verbosity to 10 (on Linux, `export AUTOGRAPH_VERBOSITY=10`) and attach the full output.\n",
      "Cause: closure mismatch, requested ('self', 'step_function'), but source function had ('self',)\n",
      "To silence this warning, decorate the function with @tf.autograph.experimental.do_not_convert\n",
      "WARNING: AutoGraph could not transform <function Model.make_train_function.<locals>.train_function at 0x000001AD59686700> and will run it as-is.\n",
      "Please report this to the TensorFlow team. When filing the bug, set the verbosity to 10 (on Linux, `export AUTOGRAPH_VERBOSITY=10`) and attach the full output.\n",
      "Cause: closure mismatch, requested ('self', 'step_function'), but source function had ('self',)\n",
      "To silence this warning, decorate the function with @tf.autograph.experimental.do_not_convert\n",
      "2054/2054 [==============================] - ETA: 0s - loss: 1.2007 - accuracy: 0.4433WARNING:tensorflow:AutoGraph could not transform <function Model.make_test_function.<locals>.test_function at 0x000001AD1C7B2DC0> and will run it as-is.\n",
      "Please report this to the TensorFlow team. When filing the bug, set the verbosity to 10 (on Linux, `export AUTOGRAPH_VERBOSITY=10`) and attach the full output.\n",
      "Cause: closure mismatch, requested ('self', 'step_function'), but source function had ()\n",
      "To silence this warning, decorate the function with @tf.autograph.experimental.do_not_convert\n",
      "WARNING: AutoGraph could not transform <function Model.make_test_function.<locals>.test_function at 0x000001AD1C7B2DC0> and will run it as-is.\n",
      "Please report this to the TensorFlow team. When filing the bug, set the verbosity to 10 (on Linux, `export AUTOGRAPH_VERBOSITY=10`) and attach the full output.\n",
      "Cause: closure mismatch, requested ('self', 'step_function'), but source function had ()\n",
      "To silence this warning, decorate the function with @tf.autograph.experimental.do_not_convert\n",
      "2054/2054 [==============================] - 7326s 4s/step - loss: 1.2007 - accuracy: 0.4433 - val_loss: 1.1977 - val_accuracy: 0.4486\n",
      "Epoch 2/3\n",
      "2054/2054 [==============================] - 8569s 4s/step - loss: 1.1926 - accuracy: 0.4516 - val_loss: 1.1943 - val_accuracy: 0.4505\n",
      "Epoch 3/3\n",
      "2054/2054 [==============================] - 47228s 23s/step - loss: 1.1907 - accuracy: 0.4528 - val_loss: 1.1950 - val_accuracy: 0.4499\n"
     ]
    }
   ],
   "source": [
    "### running the model\n",
    "\n",
    "RNN_model_history = RNN_model.fit(X_train , y_train ,\n",
    "          epochs = epochs,\n",
    "          batch_size = batch_size,\n",
    "          validation_split=0.1,\n",
    "          verbose=1)\n"
   ]
  },
  {
   "cell_type": "code",
   "execution_count": 319,
   "id": "fabe999d",
   "metadata": {},
   "outputs": [
    {
     "name": "stdout",
     "output_type": "stream",
     "text": [
      "571/571 [==============================] - 148s 259ms/step - loss: 1.1921 - accuracy: 0.4550\n",
      "\n",
      "ACCURACY: 0.45500001311302185\n",
      "LOSS: 1.1920589208602905\n",
      "CPU times: total: 9min 54s\n",
      "Wall time: 2min 28s\n"
     ]
    }
   ],
   "source": [
    "### Evaluating the model with the test set\n",
    "\n",
    "%%time\n",
    "\n",
    "score = RNN_model.evaluate(X_test, y_test , batch_size = batch_size)\n",
    "print()\n",
    "print(\"ACCURACY:\",score[1])\n",
    "print(\"LOSS:\",score[0])"
   ]
  },
  {
   "cell_type": "code",
   "execution_count": 320,
   "id": "6c7fd43d",
   "metadata": {},
   "outputs": [],
   "source": [
    "### max element in array\n",
    "y_test = np.argmax(y_test , axis=1)"
   ]
  },
  {
   "cell_type": "code",
   "execution_count": 323,
   "id": "262ff958",
   "metadata": {},
   "outputs": [
    {
     "name": "stdout",
     "output_type": "stream",
     "text": [
      "WARNING:tensorflow:AutoGraph could not transform <function Model.make_predict_function.<locals>.predict_function at 0x000001AD1DEA8CA0> and will run it as-is.\n",
      "Please report this to the TensorFlow team. When filing the bug, set the verbosity to 10 (on Linux, `export AUTOGRAPH_VERBOSITY=10`) and attach the full output.\n",
      "Cause: closure mismatch, requested ('self', 'step_function'), but source function had ()\n",
      "To silence this warning, decorate the function with @tf.autograph.experimental.do_not_convert\n",
      "WARNING: AutoGraph could not transform <function Model.make_predict_function.<locals>.predict_function at 0x000001AD1DEA8CA0> and will run it as-is.\n",
      "Please report this to the TensorFlow team. When filing the bug, set the verbosity to 10 (on Linux, `export AUTOGRAPH_VERBOSITY=10`) and attach the full output.\n",
      "Cause: closure mismatch, requested ('self', 'step_function'), but source function had ()\n",
      "To silence this warning, decorate the function with @tf.autograph.experimental.do_not_convert\n",
      "2282/2282 [==============================] - 258s 113ms/step\n"
     ]
    },
    {
     "data": {
      "text/plain": [
       "array([2, 2, 2, 2, 2, 2, 1, 2, 2, 2], dtype=int64)"
      ]
     },
     "execution_count": 323,
     "metadata": {},
     "output_type": "execute_result"
    }
   ],
   "source": [
    "### Making predictions on the test set\n",
    "\n",
    "predictions = RNN_model.predict(X_test)\n",
    "y_pred_1 = np.argmax(predictions , axis=1)\n",
    "y_pred_1[:10]"
   ]
  },
  {
   "cell_type": "code",
   "execution_count": 324,
   "id": "f4635ef7",
   "metadata": {},
   "outputs": [
    {
     "name": "stdout",
     "output_type": "stream",
     "text": [
      "[[    0  3076 11825     0     0]\n",
      " [    0 10747 14169     0     0]\n",
      " [    0  7309 22468     0     0]\n",
      " [    0   278   963     0     0]\n",
      " [    0   657  1508     0     0]]\n"
     ]
    }
   ],
   "source": [
    "### Confusion Matrix\n",
    "\n",
    "print(confusion_matrix(y_test , y_pred_1))"
   ]
  },
  {
   "cell_type": "code",
   "execution_count": 326,
   "id": "f2d7b93a",
   "metadata": {},
   "outputs": [
    {
     "name": "stdout",
     "output_type": "stream",
     "text": [
      "              precision    recall  f1-score   support\n",
      "\n",
      "           0       0.00      0.00      0.00     14901\n",
      "           1       0.49      0.43      0.46     24916\n",
      "           2       0.44      0.75      0.56     29777\n",
      "           3       0.00      0.00      0.00      1241\n",
      "           4       0.00      0.00      0.00      2165\n",
      "\n",
      "    accuracy                           0.46     73000\n",
      "   macro avg       0.19      0.24      0.20     73000\n",
      "weighted avg       0.35      0.46      0.38     73000\n",
      "\n"
     ]
    },
    {
     "name": "stderr",
     "output_type": "stream",
     "text": [
      "C:\\Users\\carlp\\anaconda3\\lib\\site-packages\\sklearn\\metrics\\_classification.py:1318: UndefinedMetricWarning: Precision and F-score are ill-defined and being set to 0.0 in labels with no predicted samples. Use `zero_division` parameter to control this behavior.\n",
      "  _warn_prf(average, modifier, msg_start, len(result))\n",
      "C:\\Users\\carlp\\anaconda3\\lib\\site-packages\\sklearn\\metrics\\_classification.py:1318: UndefinedMetricWarning: Precision and F-score are ill-defined and being set to 0.0 in labels with no predicted samples. Use `zero_division` parameter to control this behavior.\n",
      "  _warn_prf(average, modifier, msg_start, len(result))\n",
      "C:\\Users\\carlp\\anaconda3\\lib\\site-packages\\sklearn\\metrics\\_classification.py:1318: UndefinedMetricWarning: Precision and F-score are ill-defined and being set to 0.0 in labels with no predicted samples. Use `zero_division` parameter to control this behavior.\n",
      "  _warn_prf(average, modifier, msg_start, len(result))\n"
     ]
    }
   ],
   "source": [
    "### Display the final classification report of the model\n",
    "\n",
    "print(classification_report(y_test , Y_pred_1))"
   ]
  },
  {
   "cell_type": "markdown",
   "id": "97cf60e2",
   "metadata": {},
   "source": [
    "The accuracy score of 0.46 is a low evaluation score for the model. "
   ]
  },
  {
   "cell_type": "markdown",
   "id": "2355ebcf",
   "metadata": {},
   "source": [
    "# Results and Conclusions"
   ]
  },
  {
   "cell_type": "markdown",
   "id": "05b45ab7",
   "metadata": {},
   "source": [
    "Overall Positive and Neutral sentiment to Covid-19 Vaccine, ~70% of total dataset\n",
    "KNN model accuracy score 0.42\n",
    "RNN model accuracy score 0.46\n",
    "TextBlob for sentiment determination usually produced 0.5-0.6 accuracy score. Hyperparameters and use of VADER might help \n",
    "improve the models performance\n"
   ]
  }
 ],
 "metadata": {
  "kernelspec": {
   "display_name": "Python 3 (ipykernel)",
   "language": "python",
   "name": "python3"
  },
  "language_info": {
   "codemirror_mode": {
    "name": "ipython",
    "version": 3
   },
   "file_extension": ".py",
   "mimetype": "text/x-python",
   "name": "python",
   "nbconvert_exporter": "python",
   "pygments_lexer": "ipython3",
   "version": "3.9.12"
  }
 },
 "nbformat": 4,
 "nbformat_minor": 5
}
